{
 "cells": [
  {
   "cell_type": "code",
   "execution_count": 1,
   "metadata": {},
   "outputs": [
    {
     "name": "stdout",
     "output_type": "stream",
     "text": [
      "/home/acartes/Desktop/Supernovae_Complete_Pipeline\n"
     ]
    }
   ],
   "source": [
    "cd ~/Desktop/Supernovae_Complete_Pipeline"
   ]
  },
  {
   "cell_type": "code",
   "execution_count": 2,
   "metadata": {},
   "outputs": [],
   "source": [
    "from fits_plotter import *"
   ]
  },
  {
   "cell_type": "code",
   "execution_count": 3,
   "metadata": {},
   "outputs": [
    {
     "name": "stdout",
     "output_type": "stream",
     "text": [
      "SIMPLE  =                    T / file does conform to FITS standard             \n",
      "BITPIX  =                  -32 / number of bits per data pixel                  \n",
      "NAXIS   =                    1 / number of data axes                            \n",
      "NAXIS1  =                    0 / length of data axis 1                          \n",
      "EXTEND  =                    T / FITS dataset may contain extensions            \n",
      "COMMENT   FITS (Flexible Image Transport System) format is defined in 'Astronomy\n",
      "COMMENT   and Astrophysics', volume 376, page 359; bibcode: 2001A&A...376..359H \n",
      "HIERARCH CODE_IVERSION =    21 / Internal SNFTSIO code version                  \n",
      "HIERARCH SNANA_PATH = '/home/acartes/Documents/SNANA' / SNANA code directory    \n",
      "HIERARCH SNANA_VERSION = 'v11_04m ' / SNANA version                             \n",
      "SURVEY  = 'DES     '           / Survey                                         \n",
      "HIERARCH SUBSURVEY_FLAG =    0 / SUBSURVEY_FLAG                                 \n",
      "HIERARCH MWEBV_APPLYFLAG =   0 / 1 -> Apply MWEBV cor to FLUXCAL                \n",
      "HIERARCH PHOTFLAG_DETECT = 4096 / PHOTFLAG mask for detection                   \n",
      "FILTERS = 'griz    '           / List of Filters                                \n",
      "VERSION = 'DES_nonIa'          / Photometry Version                             \n",
      "PHOTFILE= 'DES_nonIa_PHOT.FITS' / Photometry FITS file                          \n",
      "DATATYPE= 'SIM_SNANA'          / SNANA Simulation                               \n",
      "LONGSTRN= 'OGIP 1.0'           / The HEASARC Long String Convention may be used.\n",
      "COMMENT   This FITS file may contain long string keyword values that are        \n",
      "COMMENT   continued over multiple keywords.  The HEASARC convention uses the &  \n",
      "COMMENT   character at the end of each substring which is then continued        \n",
      "COMMENT   on the next keyword which has the name CONTINUE.                      \n",
      "HIERARCH SIMLIB_FILE= '/home/acartes/Documents/SNDATA_ROOT/simlib/DES/DES-SN5YR'\n",
      "CONTINUE  'FFIMG.SIMLIB'       / SIMLIB Cadence/conditions File                 \n",
      "HIERARCH KCOR_FILE= '/home/acartes/Documents/SNDATA_ROOT/kcor/DES/DES-SN3YR/kco'\n",
      "CONTINUE  '.fits   '           / KCOR/calibration file                          \n",
      "HIERARCH SIMLIB_MSKOPT =     0 / SIMLIB options mask                            \n",
      "HIERARCH HOSTLIB_FILE = 'NONE    ' / name of HOSTLIB file                       \n",
      "HIERARCH SIM_MODEL_INDEX =  10 / SIM MODEL index                                \n",
      "HIERARCH SIMOPT_MWCOLORLAW = 94 / option for MW color law                       \n",
      "SIM_MWRV=                  3.1 / RV for Galactic extinction                     \n",
      "HIERARCH SIMOPT_MWEBV =      1 / option for MWEBV_SFD                           \n",
      "HIERARCH SIMOPT_FLUXERR =    0 / option for fudgeing fluxErrors                 \n",
      "HIERARCH SIM_NSUBSAMPLE_MARK = 0 / Number of marked subSamples                  \n",
      "HIERARCH SIM_VARNAME_SNRMON = '        ' / PHOT varName for SNR(MAGMONITOR)     \n",
      "HIERARCH SIM_SL_FLAG =       0 / Strong lens flag                               \n",
      "HIERARCH SIM_BIASCOR_MASK =  0 / biasCor mask                                   \n"
     ]
    }
   ],
   "source": [
    "file = \"nonIa/DES/DES_nonIa_PHOT.FITS\"\n",
    "\n",
    "curves = reader(file, fits_header=True)"
   ]
  },
  {
   "cell_type": "code",
   "execution_count": 4,
   "metadata": {},
   "outputs": [
    {
     "ename": "TypeError",
     "evalue": "summary() takes 1 positional argument but 2 were given",
     "output_type": "error",
     "traceback": [
      "\u001b[0;31m---------------------------------------------------------------------------\u001b[0m",
      "\u001b[0;31mTypeError\u001b[0m                                 Traceback (most recent call last)",
      "Cell \u001b[0;32mIn [4], line 3\u001b[0m\n\u001b[1;32m      1\u001b[0m file_summary \u001b[38;5;241m=\u001b[39m \u001b[38;5;124m\"\u001b[39m\u001b[38;5;124mnonIa/DES/DES_nonIa.DUMP\u001b[39m\u001b[38;5;124m\"\u001b[39m\n\u001b[0;32m----> 3\u001b[0m table_summary \u001b[38;5;241m=\u001b[39m \u001b[43msummary\u001b[49m\u001b[43m(\u001b[49m\u001b[43mfile_summary\u001b[49m\u001b[43m,\u001b[49m\u001b[43m \u001b[49m\u001b[38;5;28;43;01mTrue\u001b[39;49;00m\u001b[43m)\u001b[49m\n",
      "\u001b[0;31mTypeError\u001b[0m: summary() takes 1 positional argument but 2 were given"
     ]
    }
   ],
   "source": [
    "file_summary = \"nonIa/DES/DES_nonIa.DUMP\"\n",
    "\n",
    "table_summary = summary(file_summary)"
   ]
  },
  {
   "cell_type": "code",
   "execution_count": null,
   "metadata": {},
   "outputs": [],
   "source": [
    "curves"
   ]
  },
  {
   "cell_type": "code",
   "execution_count": null,
   "metadata": {},
   "outputs": [],
   "source": [
    "print(\"# objects:\", len(curves['obs'].value_counts()))\n",
    "\n",
    "np.random.seed(45)\n",
    "\n",
    "for i in np.random.randint(1, 100, 20):\n",
    "    plotter(curves, i, SNtype=table_summary['SNTYPE'][i])"
   ]
  },
  {
   "cell_type": "markdown",
   "metadata": {},
   "source": [
    "### Problem:\n",
    "\n",
    "Which types there are? is not clear"
   ]
  }
 ],
 "metadata": {
  "kernelspec": {
   "display_name": "Python 3 (ipykernel)",
   "language": "python",
   "name": "python3"
  },
  "language_info": {
   "codemirror_mode": {
    "name": "ipython",
    "version": 3
   },
   "file_extension": ".py",
   "mimetype": "text/x-python",
   "name": "python",
   "nbconvert_exporter": "python",
   "pygments_lexer": "ipython3",
   "version": "3.10.6"
  },
  "toc-autonumbering": false,
  "toc-showcode": false,
  "vscode": {
   "interpreter": {
    "hash": "e7370f93d1d0cde622a1f8e1c04877d8463912d04d973331ad4851f04de6915a"
   }
  }
 },
 "nbformat": 4,
 "nbformat_minor": 4
}
