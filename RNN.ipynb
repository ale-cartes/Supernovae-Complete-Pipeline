{
  "cells": [
    {
      "cell_type": "markdown",
      "metadata": {
        "id": "M6G7s0tLKKFk"
      },
      "source": [
        "# Data & Packages load\n"
      ]
    },
    {
      "cell_type": "code",
      "execution_count": 1,
      "metadata": {
        "id": "wc6nXbGHpkcU"
      },
      "outputs": [],
      "source": [
        "from utils import *\n",
        "\n",
        "import numpy as np\n",
        "import random\n",
        "\n",
        "import tensorflow as tf\n",
        "from tensorflow.keras.models import Sequential\n",
        "from tensorflow.keras.layers import BatchNormalization\n",
        "from tensorflow.keras.layers import SimpleRNN, LSTM, GRU\n",
        "from tensorflow.keras.layers import Dense, Bidirectional, Dropout, Flatten\n",
        "from tensorflow.keras import optimizers\n",
        "from keras.utils import normalize, to_categorical\n",
        "from sklearn.metrics import accuracy_score, f1_score, confusion_matrix\n",
        "from sklearn.model_selection import train_test_split\n",
        "\n",
        "seed = 42\n",
        "tf.random.set_seed(seed)\n",
        "np.random.seed(seed)\n",
        "random.seed(seed)\n",
        "\n",
        "%matplotlib inline"
      ]
    },
    {
      "cell_type": "code",
      "execution_count": 2,
      "metadata": {},
      "outputs": [
        {
          "name": "stdout",
          "output_type": "stream",
          "text": [
            "nonIa types:\n",
            "SNTYPE \n",
            "II+IIP     58992\n",
            "Ic+Ibc     15023\n",
            "Ib         13993\n",
            "IIL         7994\n",
            "IIn+IIN     3998\n",
            "Name: count, dtype: int64\n"
          ]
        },
        {
          "name": "stderr",
          "output_type": "stream",
          "text": [
            "c:\\Users\\aleja\\anaconda3\\lib\\site-packages\\scipy\\interpolate\\_fitpack_impl.py:509: RuntimeWarning: The maximal number of iterations (20) allowed for finding smoothing\n",
            "spline with fp=s has been reached. Probable cause: s too small.\n",
            "(abs(fp-s)/s>0.001)\n",
            "  warnings.warn(RuntimeWarning(_iermess[ier][0]))\n"
          ]
        }
      ],
      "source": [
        "# from preprocess_script import *"
      ]
    },
    {
      "cell_type": "code",
      "execution_count": 2,
      "metadata": {
        "id": "sBLEdkMop8Za"
      },
      "outputs": [],
      "source": [
        "curves_path = \"./curves_fitted.pkl\"\n",
        "curves_fitted = pd.read_pickle(curves_path)"
      ]
    },
    {
      "cell_type": "code",
      "execution_count": 3,
      "metadata": {
        "colab": {
          "base_uri": "https://localhost:8080/",
          "height": 814
        },
        "id": "QJxpA3zxp-NT",
        "outputId": "1d8506ce-1d3c-421f-db6a-155ae64331f0"
      },
      "outputs": [
        {
          "data": {
            "text/html": [
              "<div>\n",
              "<style scoped>\n",
              "    .dataframe tbody tr th:only-of-type {\n",
              "        vertical-align: middle;\n",
              "    }\n",
              "\n",
              "    .dataframe tbody tr th {\n",
              "        vertical-align: top;\n",
              "    }\n",
              "\n",
              "    .dataframe thead th {\n",
              "        text-align: right;\n",
              "    }\n",
              "</style>\n",
              "<table border=\"1\" class=\"dataframe\">\n",
              "  <thead>\n",
              "    <tr style=\"text-align: right;\">\n",
              "      <th></th>\n",
              "      <th>Days</th>\n",
              "      <th>g</th>\n",
              "      <th>r</th>\n",
              "      <th>i</th>\n",
              "      <th>z</th>\n",
              "      <th>Type</th>\n",
              "    </tr>\n",
              "  </thead>\n",
              "  <tbody>\n",
              "    <tr>\n",
              "      <th>0</th>\n",
              "      <td>[-29.74899999999616, -28.497111111107287, -27....</td>\n",
              "      <td>[5.531199306097934, -3.8665451236341335, -9.09...</td>\n",
              "      <td>[0.0, 0.0, 0.0, 0.0, 0.0, 0.0, 0.0, 0.0, 0.0, ...</td>\n",
              "      <td>[0.0, 0.0, 0.0, 0.0, 0.0, 0.0, 0.0, 0.0, 0.0, ...</td>\n",
              "      <td>[0.0, 0.0, 0.0, 0.0, 0.0, 0.0, 0.0, 0.0, 0.0, ...</td>\n",
              "      <td>1</td>\n",
              "    </tr>\n",
              "    <tr>\n",
              "      <th>1</th>\n",
              "      <td>[-16.43000000000029, -15.089373737374013, -13....</td>\n",
              "      <td>[19.66315915828518, 31.6905338352687, 39.13073...</td>\n",
              "      <td>[0.0, 0.0, 0.0, 0.0, 0.0, 0.0, 0.0, 0.0, 0.0, ...</td>\n",
              "      <td>[0.0, 0.0, 0.0, 0.0, 0.0, 0.0, 0.0, 0.0, 0.0, ...</td>\n",
              "      <td>[0.0, 0.0, 0.0, 0.0, 0.0, 0.0, 0.0, 0.0, 0.0, ...</td>\n",
              "      <td>1</td>\n",
              "    </tr>\n",
              "    <tr>\n",
              "      <th>2</th>\n",
              "      <td>[-23.222999999998137, -22.023444444442568, -20...</td>\n",
              "      <td>[-1.7347892300340444, 5.4949069428988375, 12.2...</td>\n",
              "      <td>[0.0, 0.0, 0.0, 0.0, 0.0, 0.0, 0.0, 0.0, 0.0, ...</td>\n",
              "      <td>[0.0, 0.0, 0.0, 0.0, 0.0, 0.0, 0.0, 0.0, 0.0, ...</td>\n",
              "      <td>[0.0, 0.0, 0.0, 0.0, 0.0, 0.0, 0.0, 0.0, 0.0, ...</td>\n",
              "      <td>1</td>\n",
              "    </tr>\n",
              "    <tr>\n",
              "      <th>3</th>\n",
              "      <td>[-27.98700000000099, -26.54528282828386, -25.1...</td>\n",
              "      <td>[4.715224926264313, 4.891896921441087, 1.83075...</td>\n",
              "      <td>[0.0, 0.0, 0.0, 0.0, 0.0, 0.0, 0.0, 0.0, 0.0, ...</td>\n",
              "      <td>[0.0, 0.0, 0.0, 0.0, 0.0, 0.0, 0.0, 0.0, 0.0, ...</td>\n",
              "      <td>[0.0, 0.0, 0.0, 0.0, 0.0, 0.0, 0.0, 0.0, 0.0, ...</td>\n",
              "      <td>1</td>\n",
              "    </tr>\n",
              "    <tr>\n",
              "      <th>4</th>\n",
              "      <td>[-25.65799999999581, -24.37505050504629, -23.0...</td>\n",
              "      <td>[-1.341309504711208, -8.943124259390503, -10.0...</td>\n",
              "      <td>[0.0, 0.0, 0.0, 0.0, 0.0, 0.0, 0.0, 0.0, 0.0, ...</td>\n",
              "      <td>[0.0, 0.0, 0.0, 0.0, 0.0, 0.0, 0.0, 0.0, 0.0, ...</td>\n",
              "      <td>[0.0, 0.0, 0.0, 0.0, 0.0, 0.0, 0.0, 0.0, 0.0, ...</td>\n",
              "      <td>1</td>\n",
              "    </tr>\n",
              "    <tr>\n",
              "      <th>...</th>\n",
              "      <td>...</td>\n",
              "      <td>...</td>\n",
              "      <td>...</td>\n",
              "      <td>...</td>\n",
              "      <td>...</td>\n",
              "      <td>...</td>\n",
              "    </tr>\n",
              "    <tr>\n",
              "      <th>2974795</th>\n",
              "      <td>[-27.437000000005355, -26.38815151515684, -25....</td>\n",
              "      <td>[8.29431358694477, 9.743137367500356, 11.04942...</td>\n",
              "      <td>[4.124846200513726, 3.808699694318282, 4.07861...</td>\n",
              "      <td>[1.1668327632622257, 2.39201266168775, 3.82135...</td>\n",
              "      <td>[6.622825994865473, 4.4936251672151615, 3.2323...</td>\n",
              "      <td>0</td>\n",
              "    </tr>\n",
              "    <tr>\n",
              "      <th>2974796</th>\n",
              "      <td>[-20.702000000004773, -20.07566666667139, -19....</td>\n",
              "      <td>[0.810357591777264, 5.348349126525441, 9.40002...</td>\n",
              "      <td>[4.535688525721003, 6.558562805693516, 8.54960...</td>\n",
              "      <td>[-6.508471874768616, -6.654916301120153, -6.52...</td>\n",
              "      <td>[6.9051457940187015, 2.785024191660798, -0.499...</td>\n",
              "      <td>0</td>\n",
              "    </tr>\n",
              "    <tr>\n",
              "      <th>2974797</th>\n",
              "      <td>[-26.980999999999767, -25.941101010100805, -24...</td>\n",
              "      <td>[-0.9271372489112032, 4.286748347100462, 9.317...</td>\n",
              "      <td>[-18.44563508369465, -10.038230355744448, -2.1...</td>\n",
              "      <td>[3.1026306328163757, 4.400256727234632, 6.4050...</td>\n",
              "      <td>[4.577443256576728, 7.884984235223436, 11.6322...</td>\n",
              "      <td>0</td>\n",
              "    </tr>\n",
              "    <tr>\n",
              "      <th>2974798</th>\n",
              "      <td>[-18.83299999999872, -17.755727272726052, -16....</td>\n",
              "      <td>[13.005091536153763, 21.387326722432036, 28.81...</td>\n",
              "      <td>[4.947744232592987, 12.577419604493262, 19.619...</td>\n",
              "      <td>[7.846916643129147, 14.002644069901704, 19.117...</td>\n",
              "      <td>[16.105118013759974, 17.682175052209182, 19.56...</td>\n",
              "      <td>0</td>\n",
              "    </tr>\n",
              "    <tr>\n",
              "      <th>2974799</th>\n",
              "      <td>[-27.34200000000419, -26.524080808084978, -25....</td>\n",
              "      <td>[-2.1163479758925057, 0.23176468539643022, 2.3...</td>\n",
              "      <td>[-7.179719559891063, -3.234821608615061, 0.512...</td>\n",
              "      <td>[-6.6075565038858, -4.938883515310959, -3.2523...</td>\n",
              "      <td>[-4.673596314442336, -2.519149328799507, -0.36...</td>\n",
              "      <td>0</td>\n",
              "    </tr>\n",
              "  </tbody>\n",
              "</table>\n",
              "<p>2974800 rows × 6 columns</p>\n",
              "</div>"
            ],
            "text/plain": [
              "                                                      Days   \n",
              "0        [-29.74899999999616, -28.497111111107287, -27....  \\\n",
              "1        [-16.43000000000029, -15.089373737374013, -13....   \n",
              "2        [-23.222999999998137, -22.023444444442568, -20...   \n",
              "3        [-27.98700000000099, -26.54528282828386, -25.1...   \n",
              "4        [-25.65799999999581, -24.37505050504629, -23.0...   \n",
              "...                                                    ...   \n",
              "2974795  [-27.437000000005355, -26.38815151515684, -25....   \n",
              "2974796  [-20.702000000004773, -20.07566666667139, -19....   \n",
              "2974797  [-26.980999999999767, -25.941101010100805, -24...   \n",
              "2974798  [-18.83299999999872, -17.755727272726052, -16....   \n",
              "2974799  [-27.34200000000419, -26.524080808084978, -25....   \n",
              "\n",
              "                                                        g    \n",
              "0        [5.531199306097934, -3.8665451236341335, -9.09...  \\\n",
              "1        [19.66315915828518, 31.6905338352687, 39.13073...   \n",
              "2        [-1.7347892300340444, 5.4949069428988375, 12.2...   \n",
              "3        [4.715224926264313, 4.891896921441087, 1.83075...   \n",
              "4        [-1.341309504711208, -8.943124259390503, -10.0...   \n",
              "...                                                    ...   \n",
              "2974795  [8.29431358694477, 9.743137367500356, 11.04942...   \n",
              "2974796  [0.810357591777264, 5.348349126525441, 9.40002...   \n",
              "2974797  [-0.9271372489112032, 4.286748347100462, 9.317...   \n",
              "2974798  [13.005091536153763, 21.387326722432036, 28.81...   \n",
              "2974799  [-2.1163479758925057, 0.23176468539643022, 2.3...   \n",
              "\n",
              "                                                        r    \n",
              "0        [0.0, 0.0, 0.0, 0.0, 0.0, 0.0, 0.0, 0.0, 0.0, ...  \\\n",
              "1        [0.0, 0.0, 0.0, 0.0, 0.0, 0.0, 0.0, 0.0, 0.0, ...   \n",
              "2        [0.0, 0.0, 0.0, 0.0, 0.0, 0.0, 0.0, 0.0, 0.0, ...   \n",
              "3        [0.0, 0.0, 0.0, 0.0, 0.0, 0.0, 0.0, 0.0, 0.0, ...   \n",
              "4        [0.0, 0.0, 0.0, 0.0, 0.0, 0.0, 0.0, 0.0, 0.0, ...   \n",
              "...                                                    ...   \n",
              "2974795  [4.124846200513726, 3.808699694318282, 4.07861...   \n",
              "2974796  [4.535688525721003, 6.558562805693516, 8.54960...   \n",
              "2974797  [-18.44563508369465, -10.038230355744448, -2.1...   \n",
              "2974798  [4.947744232592987, 12.577419604493262, 19.619...   \n",
              "2974799  [-7.179719559891063, -3.234821608615061, 0.512...   \n",
              "\n",
              "                                                        i    \n",
              "0        [0.0, 0.0, 0.0, 0.0, 0.0, 0.0, 0.0, 0.0, 0.0, ...  \\\n",
              "1        [0.0, 0.0, 0.0, 0.0, 0.0, 0.0, 0.0, 0.0, 0.0, ...   \n",
              "2        [0.0, 0.0, 0.0, 0.0, 0.0, 0.0, 0.0, 0.0, 0.0, ...   \n",
              "3        [0.0, 0.0, 0.0, 0.0, 0.0, 0.0, 0.0, 0.0, 0.0, ...   \n",
              "4        [0.0, 0.0, 0.0, 0.0, 0.0, 0.0, 0.0, 0.0, 0.0, ...   \n",
              "...                                                    ...   \n",
              "2974795  [1.1668327632622257, 2.39201266168775, 3.82135...   \n",
              "2974796  [-6.508471874768616, -6.654916301120153, -6.52...   \n",
              "2974797  [3.1026306328163757, 4.400256727234632, 6.4050...   \n",
              "2974798  [7.846916643129147, 14.002644069901704, 19.117...   \n",
              "2974799  [-6.6075565038858, -4.938883515310959, -3.2523...   \n",
              "\n",
              "                                                        z   Type  \n",
              "0        [0.0, 0.0, 0.0, 0.0, 0.0, 0.0, 0.0, 0.0, 0.0, ...     1  \n",
              "1        [0.0, 0.0, 0.0, 0.0, 0.0, 0.0, 0.0, 0.0, 0.0, ...     1  \n",
              "2        [0.0, 0.0, 0.0, 0.0, 0.0, 0.0, 0.0, 0.0, 0.0, ...     1  \n",
              "3        [0.0, 0.0, 0.0, 0.0, 0.0, 0.0, 0.0, 0.0, 0.0, ...     1  \n",
              "4        [0.0, 0.0, 0.0, 0.0, 0.0, 0.0, 0.0, 0.0, 0.0, ...     1  \n",
              "...                                                    ...   ...  \n",
              "2974795  [6.622825994865473, 4.4936251672151615, 3.2323...     0  \n",
              "2974796  [6.9051457940187015, 2.785024191660798, -0.499...     0  \n",
              "2974797  [4.577443256576728, 7.884984235223436, 11.6322...     0  \n",
              "2974798  [16.105118013759974, 17.682175052209182, 19.56...     0  \n",
              "2974799  [-4.673596314442336, -2.519149328799507, -0.36...     0  \n",
              "\n",
              "[2974800 rows x 6 columns]"
            ]
          },
          "execution_count": 3,
          "metadata": {},
          "output_type": "execute_result"
        }
      ],
      "source": [
        "curves_fitted"
      ]
    },
    {
      "cell_type": "code",
      "execution_count": 4,
      "metadata": {
        "id": "e8Jv-qvMqAwj"
      },
      "outputs": [],
      "source": [
        "curves_RNN = curves_fitted[['Days', 'g ', 'r ', 'i ', 'z ']].to_numpy().tolist()\n",
        "types = curves_fitted.Type.to_numpy()\n",
        "\n",
        "curves_RNN = np.reshape(curves_RNN, (curves_fitted.index.size, 100, 5))\n",
        "types = types.reshape((-1, 1))\n",
        "\n",
        "X_train, X_test, y_train, y_test = train_test_split(curves_RNN, types,\n",
        "                                                    train_size=0.7,\n",
        "                                                    random_state=42)"
      ]
    },
    {
      "cell_type": "code",
      "execution_count": 5,
      "metadata": {
        "colab": {
          "base_uri": "https://localhost:8080/"
        },
        "id": "LF_N9go2qIk0",
        "outputId": "73132bb2-3b54-4485-c760-cc0de4a831db"
      },
      "outputs": [
        {
          "data": {
            "text/plain": [
              "(2082359, 100, 5)"
            ]
          },
          "execution_count": 5,
          "metadata": {},
          "output_type": "execute_result"
        }
      ],
      "source": [
        "n_obs, seq_len, feat = X_train.shape\n",
        "X_train.shape"
      ]
    },
    {
      "cell_type": "markdown",
      "metadata": {
        "id": "Fpnoh4yDqrkl"
      },
      "source": [
        "# Model: 1 layer & 1 neuron\n",
        "---\n"
      ]
    },
    {
      "cell_type": "markdown",
      "metadata": {
        "id": "CJM4S4m90B7J"
      },
      "source": [
        "## SimpleRNN"
      ]
    },
    {
      "cell_type": "code",
      "execution_count": 6,
      "metadata": {
        "colab": {
          "base_uri": "https://localhost:8080/"
        },
        "id": "wkAV3RyCqUhM",
        "outputId": "51fbafbc-2175-421a-e431-f1dfd87b85bd"
      },
      "outputs": [
        {
          "name": "stdout",
          "output_type": "stream",
          "text": [
            "Model: \"sequential\"\n",
            "_________________________________________________________________\n",
            " Layer (type)                Output Shape              Param #   \n",
            "=================================================================\n",
            " simple_rnn (SimpleRNN)      (None, 100, 1)            7         \n",
            "                                                                 \n",
            " batch_normalization (BatchN  (None, 100, 1)           4         \n",
            " ormalization)                                                   \n",
            "                                                                 \n",
            " flatten (Flatten)           (None, 100)               0         \n",
            "                                                                 \n",
            " dense (Dense)               (None, 1)                 101       \n",
            "                                                                 \n",
            "=================================================================\n",
            "Total params: 112\n",
            "Trainable params: 110\n",
            "Non-trainable params: 2\n",
            "_________________________________________________________________\n"
          ]
        }
      ],
      "source": [
        "model_1l_1simpleRNN = Sequential()\n",
        "model_1l_1simpleRNN.add(SimpleRNN(1, input_shape=(seq_len, feat),\n",
        "                                  return_sequences=True, dropout=0.2))\n",
        "model_1l_1simpleRNN.add(BatchNormalization())\n",
        "model_1l_1simpleRNN.add(Flatten())\n",
        "model_1l_1simpleRNN.add(Dense(1, activation='sigmoid'))\n",
        "\n",
        "optimizer = optimizers.Adam()\n",
        "model_1l_1simpleRNN.compile(loss='binary_crossentropy',\n",
        "                            optimizer=optimizer,\n",
        "                            metrics=['accuracy'])\n",
        "model_1l_1simpleRNN.summary()"
      ]
    },
    {
      "cell_type": "code",
      "execution_count": 7,
      "metadata": {
        "colab": {
          "base_uri": "https://localhost:8080/"
        },
        "id": "MfsbPn2bqvTI",
        "outputId": "dbe10a3d-d9c8-4847-d6db-ee76862b5c91"
      },
      "outputs": [
        {
          "name": "stdout",
          "output_type": "stream",
          "text": [
            "Epoch 1/30\n",
            "16269/16269 [==============================] - 136s 8ms/step - loss: 0.5897 - accuracy: 0.6717 - val_loss: 0.5747 - val_accuracy: 0.6822\n",
            "Epoch 2/30\n",
            "16269/16269 [==============================] - 124s 8ms/step - loss: 0.5776 - accuracy: 0.6805 - val_loss: 0.5756 - val_accuracy: 0.6777\n",
            "Epoch 3/30\n",
            "16269/16269 [==============================] - 123s 8ms/step - loss: 0.5773 - accuracy: 0.6802 - val_loss: 0.5738 - val_accuracy: 0.6821\n",
            "Epoch 4/30\n",
            "16269/16269 [==============================] - 122s 8ms/step - loss: 0.5772 - accuracy: 0.6807 - val_loss: 0.5738 - val_accuracy: 0.6821\n",
            "Epoch 5/30\n",
            "16269/16269 [==============================] - 123s 8ms/step - loss: 0.5770 - accuracy: 0.6810 - val_loss: 0.5739 - val_accuracy: 0.6836\n",
            "Epoch 6/30\n",
            "16269/16269 [==============================] - 122s 8ms/step - loss: 0.5771 - accuracy: 0.6808 - val_loss: 0.5736 - val_accuracy: 0.6841\n",
            "Epoch 7/30\n",
            "16269/16269 [==============================] - 147s 9ms/step - loss: 0.5769 - accuracy: 0.6811 - val_loss: 0.5734 - val_accuracy: 0.6840\n",
            "Epoch 8/30\n",
            "16269/16269 [==============================] - 143s 9ms/step - loss: 0.5770 - accuracy: 0.6809 - val_loss: 0.5738 - val_accuracy: 0.6828\n",
            "Epoch 9/30\n",
            "16269/16269 [==============================] - 144s 9ms/step - loss: 0.5768 - accuracy: 0.6805 - val_loss: 0.5737 - val_accuracy: 0.6846\n",
            "Epoch 10/30\n",
            "16269/16269 [==============================] - 144s 9ms/step - loss: 0.5766 - accuracy: 0.6808 - val_loss: 0.5738 - val_accuracy: 0.6831\n",
            "Epoch 11/30\n",
            "16269/16269 [==============================] - 143s 9ms/step - loss: 0.5762 - accuracy: 0.6806 - val_loss: 0.5737 - val_accuracy: 0.6837\n",
            "Epoch 12/30\n",
            "16269/16269 [==============================] - 143s 9ms/step - loss: 0.5745 - accuracy: 0.6819 - val_loss: 0.5735 - val_accuracy: 0.6808\n",
            "Epoch 13/30\n",
            "16269/16269 [==============================] - 143s 9ms/step - loss: 0.5743 - accuracy: 0.6825 - val_loss: 0.5733 - val_accuracy: 0.6848\n",
            "Epoch 14/30\n",
            "16269/16269 [==============================] - 143s 9ms/step - loss: 0.5742 - accuracy: 0.6824 - val_loss: 0.5734 - val_accuracy: 0.6847\n",
            "Epoch 15/30\n",
            "16269/16269 [==============================] - 144s 9ms/step - loss: 0.5744 - accuracy: 0.6826 - val_loss: 0.5731 - val_accuracy: 0.6833\n",
            "Epoch 16/30\n",
            "16269/16269 [==============================] - 143s 9ms/step - loss: 0.5742 - accuracy: 0.6827 - val_loss: 0.5732 - val_accuracy: 0.6835\n",
            "Epoch 17/30\n",
            "16269/16269 [==============================] - 147s 9ms/step - loss: 0.5740 - accuracy: 0.6836 - val_loss: 0.5733 - val_accuracy: 0.6811\n",
            "Epoch 18/30\n",
            "16269/16269 [==============================] - 149s 9ms/step - loss: 0.5741 - accuracy: 0.6833 - val_loss: 0.5731 - val_accuracy: 0.6826\n",
            "Epoch 19/30\n",
            "16269/16269 [==============================] - 147s 9ms/step - loss: 0.5742 - accuracy: 0.6833 - val_loss: 0.5736 - val_accuracy: 0.6814\n",
            "Epoch 20/30\n",
            "16269/16269 [==============================] - 143s 9ms/step - loss: 0.5742 - accuracy: 0.6832 - val_loss: 0.5732 - val_accuracy: 0.6832\n",
            "Epoch 21/30\n",
            "16269/16269 [==============================] - 143s 9ms/step - loss: 0.5741 - accuracy: 0.6833 - val_loss: 0.5732 - val_accuracy: 0.6825\n",
            "Epoch 22/30\n",
            "16269/16269 [==============================] - 144s 9ms/step - loss: 0.5740 - accuracy: 0.6833 - val_loss: 0.5731 - val_accuracy: 0.6832\n",
            "Epoch 23/30\n",
            "16269/16269 [==============================] - 143s 9ms/step - loss: 0.5739 - accuracy: 0.6834 - val_loss: 0.5733 - val_accuracy: 0.6840\n",
            "Epoch 24/30\n",
            "16269/16269 [==============================] - 144s 9ms/step - loss: 0.5740 - accuracy: 0.6832 - val_loss: 0.5732 - val_accuracy: 0.6827\n",
            "Epoch 25/30\n",
            "16269/16269 [==============================] - 144s 9ms/step - loss: 0.5740 - accuracy: 0.6836 - val_loss: 0.5728 - val_accuracy: 0.6840\n",
            "Epoch 26/30\n",
            "16269/16269 [==============================] - 134s 8ms/step - loss: 0.5739 - accuracy: 0.6839 - val_loss: 0.5734 - val_accuracy: 0.6813\n",
            "Epoch 27/30\n",
            "16269/16269 [==============================] - 125s 8ms/step - loss: 0.5739 - accuracy: 0.6838 - val_loss: 0.5728 - val_accuracy: 0.6839\n",
            "Epoch 28/30\n",
            "16269/16269 [==============================] - 126s 8ms/step - loss: 0.5740 - accuracy: 0.6834 - val_loss: 0.5734 - val_accuracy: 0.6846\n",
            "Epoch 29/30\n",
            "16269/16269 [==============================] - 125s 8ms/step - loss: 0.5740 - accuracy: 0.6839 - val_loss: 0.5733 - val_accuracy: 0.6824\n",
            "Epoch 30/30\n",
            "16269/16269 [==============================] - 126s 8ms/step - loss: 0.5739 - accuracy: 0.6837 - val_loss: 0.5729 - val_accuracy: 0.6839\n",
            "27889/27889 [==============================] - 64s 2ms/step\n"
          ]
        }
      ],
      "source": [
        "history_1l_1simpleRNN = model_1l_1simpleRNN.fit(X_train, y_train,\n",
        "                                                validation_data=(X_test, y_test),\n",
        "                                                epochs=30, batch_size=128)\n",
        "predict_1l_1simpleRNN = model_1l_1simpleRNN.predict(X_test)"
      ]
    },
    {
      "cell_type": "code",
      "execution_count": 8,
      "metadata": {
        "colab": {
          "base_uri": "https://localhost:8080/",
          "height": 447
        },
        "id": "YZjrJrXNrqqM",
        "outputId": "dfb9df03-1e21-4756-90b4-eee18d30acf7"
      },
      "outputs": [
        {
          "data": {
            "text/plain": [
              "<AxesSubplot:>"
            ]
          },
          "execution_count": 8,
          "metadata": {},
          "output_type": "execute_result"
        },
        {
          "data": {
            "image/png": "[encoded data removed]",
            "text/plain": [
              "<Figure size 640x480 with 1 Axes>"
            ]
          },
          "metadata": {},
          "output_type": "display_data"
        }
      ],
      "source": [
        "pd.DataFrame(history_1l_1simpleRNN.history).plot()"
      ]
    },
    {
      "cell_type": "code",
      "execution_count": 9,
      "metadata": {
        "colab": {
          "base_uri": "https://localhost:8080/",
          "height": 523
        },
        "id": "0i05gxXXSNSN",
        "outputId": "e5fd6851-6204-4c45-fb0d-ca1bc848f99f"
      },
      "outputs": [
        {
          "ename": "MemoryError",
          "evalue": "Unable to allocate 6.81 MiB for an array with shape (892441,) and data type int64",
          "output_type": "error",
          "traceback": [
            "\u001b[1;31m---------------------------------------------------------------------------\u001b[0m",
            "\u001b[1;31mMemoryError\u001b[0m                               Traceback (most recent call last)",
            "\u001b[1;32mc:\\Users\\aleja\\Desktop\\Supernovae Pipeline\\Supernovae-Complete-Pipeline\\RNN.ipynb Cell 13\u001b[0m in \u001b[0;36m<cell line: 1>\u001b[1;34m()\u001b[0m\n\u001b[1;32m----> <a href='vscode-notebook-cell:/c%3A/Users/aleja/Desktop/Supernovae%20Pipeline/Supernovae-Complete-Pipeline/RNN.ipynb#X15sZmlsZQ%3D%3D?line=0'>1</a>\u001b[0m plot_confusion_matrix(y_test, predict_1l_1simpleRNN\u001b[39m.\u001b[39;49mround(), [\u001b[39m'\u001b[39;49m\u001b[39mIa\u001b[39;49m\u001b[39m'\u001b[39;49m, \u001b[39m'\u001b[39;49m\u001b[39mnonIa\u001b[39;49m\u001b[39m'\u001b[39;49m], normalize\u001b[39m=\u001b[39;49m\u001b[39mTrue\u001b[39;49;00m)\n",
            "File \u001b[1;32mc:\\Users\\aleja\\Desktop\\Supernovae Pipeline\\Supernovae-Complete-Pipeline\\utils.py:362\u001b[0m, in \u001b[0;36mplot_confusion_matrix\u001b[1;34m(test_data, pred_data, classes, normalize, title, cmap)\u001b[0m\n\u001b[0;32m    342\u001b[0m \u001b[39mdef\u001b[39;00m \u001b[39mplot_confusion_matrix\u001b[39m(test_data, pred_data, classes,\n\u001b[0;32m    343\u001b[0m                           normalize\u001b[39m=\u001b[39m\u001b[39mFalse\u001b[39;00m,\n\u001b[0;32m    344\u001b[0m                           title\u001b[39m=\u001b[39m\u001b[39m'\u001b[39m\u001b[39mConfusion matrix\u001b[39m\u001b[39m'\u001b[39m,\n\u001b[0;32m    345\u001b[0m                           cmap\u001b[39m=\u001b[39mplt\u001b[39m.\u001b[39mcm\u001b[39m.\u001b[39mBlues):\n\u001b[0;32m    346\u001b[0m     \u001b[39m\"\"\"\u001b[39;00m\n\u001b[0;32m    347\u001b[0m \u001b[39m    Function that plots the Confusion Matrix given the testing\u001b[39;00m\n\u001b[0;32m    348\u001b[0m \u001b[39m    and predicted data.\u001b[39;00m\n\u001b[1;32m   (...)\u001b[0m\n\u001b[0;32m    359\u001b[0m \u001b[39m      if True, the confusion matrix will be normalized. Defaulte is False\u001b[39;00m\n\u001b[0;32m    360\u001b[0m \u001b[39m    \"\"\"\u001b[39;00m\n\u001b[1;32m--> 362\u001b[0m     cm \u001b[39m=\u001b[39m confusion_matrix(test_data, pred_data, labels\u001b[39m=\u001b[39;49m[\u001b[39m1\u001b[39;49m, \u001b[39m0\u001b[39;49m])\n\u001b[0;32m    364\u001b[0m     \u001b[39mif\u001b[39;00m normalize:\n\u001b[0;32m    365\u001b[0m         cm \u001b[39m=\u001b[39m cm\u001b[39m.\u001b[39mastype(\u001b[39m'\u001b[39m\u001b[39mfloat\u001b[39m\u001b[39m'\u001b[39m) \u001b[39m/\u001b[39m cm\u001b[39m.\u001b[39msum(axis\u001b[39m=\u001b[39m\u001b[39m1\u001b[39m)[:, np\u001b[39m.\u001b[39mnewaxis]\n",
            "File \u001b[1;32mc:\\Users\\aleja\\anaconda3\\lib\\site-packages\\sklearn\\metrics\\_classification.py:307\u001b[0m, in \u001b[0;36mconfusion_matrix\u001b[1;34m(y_true, y_pred, labels, sample_weight, normalize)\u001b[0m\n\u001b[0;32m    222\u001b[0m \u001b[39mdef\u001b[39;00m \u001b[39mconfusion_matrix\u001b[39m(\n\u001b[0;32m    223\u001b[0m     y_true, y_pred, \u001b[39m*\u001b[39m, labels\u001b[39m=\u001b[39m\u001b[39mNone\u001b[39;00m, sample_weight\u001b[39m=\u001b[39m\u001b[39mNone\u001b[39;00m, normalize\u001b[39m=\u001b[39m\u001b[39mNone\u001b[39;00m\n\u001b[0;32m    224\u001b[0m ):\n\u001b[0;32m    225\u001b[0m     \u001b[39m\"\"\"Compute confusion matrix to evaluate the accuracy of a classification.\u001b[39;00m\n\u001b[0;32m    226\u001b[0m \n\u001b[0;32m    227\u001b[0m \u001b[39m    By definition a confusion matrix :math:`C` is such that :math:`C_{i, j}`\u001b[39;00m\n\u001b[1;32m   (...)\u001b[0m\n\u001b[0;32m    305\u001b[0m \u001b[39m    (0, 2, 1, 1)\u001b[39;00m\n\u001b[0;32m    306\u001b[0m \u001b[39m    \"\"\"\u001b[39;00m\n\u001b[1;32m--> 307\u001b[0m     y_type, y_true, y_pred \u001b[39m=\u001b[39m _check_targets(y_true, y_pred)\n\u001b[0;32m    308\u001b[0m     \u001b[39mif\u001b[39;00m y_type \u001b[39mnot\u001b[39;00m \u001b[39min\u001b[39;00m (\u001b[39m\"\u001b[39m\u001b[39mbinary\u001b[39m\u001b[39m\"\u001b[39m, \u001b[39m\"\u001b[39m\u001b[39mmulticlass\u001b[39m\u001b[39m\"\u001b[39m):\n\u001b[0;32m    309\u001b[0m         \u001b[39mraise\u001b[39;00m \u001b[39mValueError\u001b[39;00m(\u001b[39m\"\u001b[39m\u001b[39m%s\u001b[39;00m\u001b[39m is not supported\u001b[39m\u001b[39m\"\u001b[39m \u001b[39m%\u001b[39m y_type)\n",
            "File \u001b[1;32mc:\\Users\\aleja\\anaconda3\\lib\\site-packages\\sklearn\\metrics\\_classification.py:85\u001b[0m, in \u001b[0;36m_check_targets\u001b[1;34m(y_true, y_pred)\u001b[0m\n\u001b[0;32m     58\u001b[0m \u001b[39m\"\"\"Check that y_true and y_pred belong to the same classification task.\u001b[39;00m\n\u001b[0;32m     59\u001b[0m \n\u001b[0;32m     60\u001b[0m \u001b[39mThis converts multiclass or binary types to a common shape, and raises a\u001b[39;00m\n\u001b[1;32m   (...)\u001b[0m\n\u001b[0;32m     82\u001b[0m \u001b[39my_pred : array or indicator matrix\u001b[39;00m\n\u001b[0;32m     83\u001b[0m \u001b[39m\"\"\"\u001b[39;00m\n\u001b[0;32m     84\u001b[0m check_consistent_length(y_true, y_pred)\n\u001b[1;32m---> 85\u001b[0m type_true \u001b[39m=\u001b[39m type_of_target(y_true, input_name\u001b[39m=\u001b[39;49m\u001b[39m\"\u001b[39;49m\u001b[39my_true\u001b[39;49m\u001b[39m\"\u001b[39;49m)\n\u001b[0;32m     86\u001b[0m type_pred \u001b[39m=\u001b[39m type_of_target(y_pred, input_name\u001b[39m=\u001b[39m\u001b[39m\"\u001b[39m\u001b[39my_pred\u001b[39m\u001b[39m\"\u001b[39m)\n\u001b[0;32m     88\u001b[0m y_type \u001b[39m=\u001b[39m {type_true, type_pred}\n",
            "File \u001b[1;32mc:\\Users\\aleja\\anaconda3\\lib\\site-packages\\sklearn\\utils\\multiclass.py:335\u001b[0m, in \u001b[0;36mtype_of_target\u001b[1;34m(y, input_name)\u001b[0m\n\u001b[0;32m    332\u001b[0m     _assert_all_finite(y, input_name\u001b[39m=\u001b[39minput_name)\n\u001b[0;32m    333\u001b[0m     \u001b[39mreturn\u001b[39;00m \u001b[39m\"\u001b[39m\u001b[39mcontinuous\u001b[39m\u001b[39m\"\u001b[39m \u001b[39m+\u001b[39m suffix\n\u001b[1;32m--> 335\u001b[0m \u001b[39mif\u001b[39;00m (\u001b[39mlen\u001b[39m(np\u001b[39m.\u001b[39;49munique(y)) \u001b[39m>\u001b[39m \u001b[39m2\u001b[39m) \u001b[39mor\u001b[39;00m (y\u001b[39m.\u001b[39mndim \u001b[39m>\u001b[39m\u001b[39m=\u001b[39m \u001b[39m2\u001b[39m \u001b[39mand\u001b[39;00m \u001b[39mlen\u001b[39m(y[\u001b[39m0\u001b[39m]) \u001b[39m>\u001b[39m \u001b[39m1\u001b[39m):\n\u001b[0;32m    336\u001b[0m     \u001b[39mreturn\u001b[39;00m \u001b[39m\"\u001b[39m\u001b[39mmulticlass\u001b[39m\u001b[39m\"\u001b[39m \u001b[39m+\u001b[39m suffix  \u001b[39m# [1, 2, 3] or [[1., 2., 3]] or [[1, 2]]\u001b[39;00m\n\u001b[0;32m    337\u001b[0m \u001b[39melse\u001b[39;00m:\n",
            "File \u001b[1;32m<__array_function__ internals>:180\u001b[0m, in \u001b[0;36munique\u001b[1;34m(*args, **kwargs)\u001b[0m\n",
            "File \u001b[1;32mc:\\Users\\aleja\\anaconda3\\lib\\site-packages\\numpy\\lib\\arraysetops.py:272\u001b[0m, in \u001b[0;36munique\u001b[1;34m(ar, return_index, return_inverse, return_counts, axis)\u001b[0m\n\u001b[0;32m    270\u001b[0m ar \u001b[39m=\u001b[39m np\u001b[39m.\u001b[39masanyarray(ar)\n\u001b[0;32m    271\u001b[0m \u001b[39mif\u001b[39;00m axis \u001b[39mis\u001b[39;00m \u001b[39mNone\u001b[39;00m:\n\u001b[1;32m--> 272\u001b[0m     ret \u001b[39m=\u001b[39m _unique1d(ar, return_index, return_inverse, return_counts)\n\u001b[0;32m    273\u001b[0m     \u001b[39mreturn\u001b[39;00m _unpack_tuple(ret)\n\u001b[0;32m    275\u001b[0m \u001b[39m# axis was specified and not None\u001b[39;00m\n",
            "File \u001b[1;32mc:\\Users\\aleja\\anaconda3\\lib\\site-packages\\numpy\\lib\\arraysetops.py:325\u001b[0m, in \u001b[0;36m_unique1d\u001b[1;34m(ar, return_index, return_inverse, return_counts)\u001b[0m\n\u001b[0;32m    320\u001b[0m \u001b[39mdef\u001b[39;00m \u001b[39m_unique1d\u001b[39m(ar, return_index\u001b[39m=\u001b[39m\u001b[39mFalse\u001b[39;00m, return_inverse\u001b[39m=\u001b[39m\u001b[39mFalse\u001b[39;00m,\n\u001b[0;32m    321\u001b[0m               return_counts\u001b[39m=\u001b[39m\u001b[39mFalse\u001b[39;00m):\n\u001b[0;32m    322\u001b[0m     \u001b[39m\"\"\"\u001b[39;00m\n\u001b[0;32m    323\u001b[0m \u001b[39m    Find the unique elements of an array, ignoring shape.\u001b[39;00m\n\u001b[0;32m    324\u001b[0m \u001b[39m    \"\"\"\u001b[39;00m\n\u001b[1;32m--> 325\u001b[0m     ar \u001b[39m=\u001b[39m np\u001b[39m.\u001b[39;49masanyarray(ar)\u001b[39m.\u001b[39;49mflatten()\n\u001b[0;32m    327\u001b[0m     optional_indices \u001b[39m=\u001b[39m return_index \u001b[39mor\u001b[39;00m return_inverse\n\u001b[0;32m    329\u001b[0m     \u001b[39mif\u001b[39;00m optional_indices:\n",
            "\u001b[1;31mMemoryError\u001b[0m: Unable to allocate 6.81 MiB for an array with shape (892441,) and data type int64"
          ]
        }
      ],
      "source": [
        "plot_confusion_matrix(y_test, predict_1l_1simpleRNN.round(), ['Ia', 'nonIa'], normalize=True)"
      ]
    },
    {
      "cell_type": "code",
      "execution_count": 10,
      "metadata": {
        "colab": {
          "base_uri": "https://localhost:8080/",
          "height": 489
        },
        "id": "URJPl-UqRY-s",
        "outputId": "72b33131-4ff5-4de9-9f4f-0dd5ef12864f"
      },
      "outputs": [
        {
          "name": "stdout",
          "output_type": "stream",
          "text": [
            "AUC = 0.6839132161080075\n"
          ]
        },
        {
          "data": {
            "image/png": "[encoded data removed]",
            "text/plain": [
              "<Figure size 640x480 with 1 Axes>"
            ]
          },
          "metadata": {},
          "output_type": "display_data"
        }
      ],
      "source": [
        "plot_roc_curve(y_test, predict_1l_1simpleRNN.round(), auc_print=True)"
      ]
    },
    {
      "cell_type": "code",
      "execution_count": 11,
      "metadata": {
        "colab": {
          "base_uri": "https://localhost:8080/"
        },
        "id": "bEkpPxv8RfkD",
        "outputId": "4b223fb3-028e-4f06-bb03-dad65948fd65"
      },
      "outputs": [
        {
          "ename": "MemoryError",
          "evalue": "Unable to allocate 1.66 GiB for an array with shape (892441, 100, 5) and data type float32",
          "output_type": "error",
          "traceback": [
            "\u001b[1;31m---------------------------------------------------------------------------\u001b[0m",
            "\u001b[1;31mMemoryError\u001b[0m                               Traceback (most recent call last)",
            "\u001b[1;32mc:\\Users\\aleja\\Desktop\\Supernovae Pipeline\\Supernovae-Complete-Pipeline\\RNN.ipynb Cell 15\u001b[0m in \u001b[0;36m<cell line: 1>\u001b[1;34m()\u001b[0m\n\u001b[1;32m----> <a href='vscode-notebook-cell:/c%3A/Users/aleja/Desktop/Supernovae%20Pipeline/Supernovae-Complete-Pipeline/RNN.ipynb#X20sZmlsZQ%3D%3D?line=0'>1</a>\u001b[0m acc_1l_1simpleRNN \u001b[39m=\u001b[39m model_1l_1simpleRNN\u001b[39m.\u001b[39;49mevaluate(X_test, y_test, verbose\u001b[39m=\u001b[39;49m\u001b[39m0\u001b[39;49m)\n\u001b[0;32m      <a href='vscode-notebook-cell:/c%3A/Users/aleja/Desktop/Supernovae%20Pipeline/Supernovae-Complete-Pipeline/RNN.ipynb#X20sZmlsZQ%3D%3D?line=1'>2</a>\u001b[0m \u001b[39mprint\u001b[39m(\u001b[39mf\u001b[39m\u001b[39m'\u001b[39m\u001b[39maccuracy: \u001b[39m\u001b[39m{\u001b[39;00macc_1l_1simpleRNN[\u001b[39m1\u001b[39m] \u001b[39m*\u001b[39m \u001b[39m100\u001b[39m \u001b[39m:\u001b[39;00m\u001b[39m 0.2f\u001b[39m\u001b[39m}\u001b[39;00m\u001b[39m%\u001b[39m\u001b[39m'\u001b[39m)\n",
            "File \u001b[1;32mc:\\Users\\aleja\\anaconda3\\lib\\site-packages\\keras\\utils\\traceback_utils.py:70\u001b[0m, in \u001b[0;36mfilter_traceback.<locals>.error_handler\u001b[1;34m(*args, **kwargs)\u001b[0m\n\u001b[0;32m     67\u001b[0m     filtered_tb \u001b[39m=\u001b[39m _process_traceback_frames(e\u001b[39m.\u001b[39m__traceback__)\n\u001b[0;32m     68\u001b[0m     \u001b[39m# To get the full stack trace, call:\u001b[39;00m\n\u001b[0;32m     69\u001b[0m     \u001b[39m# `tf.debugging.disable_traceback_filtering()`\u001b[39;00m\n\u001b[1;32m---> 70\u001b[0m     \u001b[39mraise\u001b[39;00m e\u001b[39m.\u001b[39mwith_traceback(filtered_tb) \u001b[39mfrom\u001b[39;00m \u001b[39mNone\u001b[39m\n\u001b[0;32m     71\u001b[0m \u001b[39mfinally\u001b[39;00m:\n\u001b[0;32m     72\u001b[0m     \u001b[39mdel\u001b[39;00m filtered_tb\n",
            "File \u001b[1;32mc:\\Users\\aleja\\anaconda3\\lib\\site-packages\\tensorflow\\python\\framework\\constant_op.py:102\u001b[0m, in \u001b[0;36mconvert_to_eager_tensor\u001b[1;34m(value, ctx, dtype)\u001b[0m\n\u001b[0;32m    100\u001b[0m     dtype \u001b[39m=\u001b[39m dtypes\u001b[39m.\u001b[39mas_dtype(dtype)\u001b[39m.\u001b[39mas_datatype_enum\n\u001b[0;32m    101\u001b[0m ctx\u001b[39m.\u001b[39mensure_initialized()\n\u001b[1;32m--> 102\u001b[0m \u001b[39mreturn\u001b[39;00m ops\u001b[39m.\u001b[39;49mEagerTensor(value, ctx\u001b[39m.\u001b[39;49mdevice_name, dtype)\n",
            "\u001b[1;31mMemoryError\u001b[0m: Unable to allocate 1.66 GiB for an array with shape (892441, 100, 5) and data type float32"
          ]
        }
      ],
      "source": [
        "acc_1l_1simpleRNN = model_1l_1simpleRNN.evaluate(X_test, y_test, verbose=0)\n",
        "print(f'accuracy: {acc_1l_1simpleRNN[1] * 100 : 0.2f}%')"
      ]
    },
    {
      "cell_type": "markdown",
      "metadata": {
        "id": "s16vAwX_0I2z"
      },
      "source": [
        "## LSTM"
      ]
    },
    {
      "cell_type": "code",
      "execution_count": null,
      "metadata": {
        "colab": {
          "base_uri": "https://localhost:8080/"
        },
        "id": "qmzOKzG8rtWF",
        "outputId": "55ce6b48-5d9d-487f-820e-2eda5eeaf520"
      },
      "outputs": [],
      "source": [
        "model_1l_1LSTM = Sequential()\n",
        "model_1l_1LSTM.add(LSTM(1, input_shape=(seq_len, feat),\n",
        "                        return_sequences=True, dropout=0.2))\n",
        "model_1l_1LSTM.add(BatchNormalization())\n",
        "model_1l_1LSTM.add(Flatten())\n",
        "model_1l_1LSTM.add(Dense(1, activation='sigmoid'))\n",
        "\n",
        "optimizer = optimizers.Adam()\n",
        "model_1l_1LSTM.compile(loss='binary_crossentropy',\n",
        "                       optimizer=optimizer,\n",
        "                       metrics=['accuracy'])\n",
        "model_1l_1LSTM.summary()"
      ]
    },
    {
      "cell_type": "code",
      "execution_count": null,
      "metadata": {
        "colab": {
          "base_uri": "https://localhost:8080/"
        },
        "id": "hpUStVsgr_XQ",
        "outputId": "dbed7a2d-7539-43fd-9b85-807c68f941d9"
      },
      "outputs": [],
      "source": [
        "history_1l_1LSTM = model_1l_1LSTM.fit(X_train, y_train,\n",
        "                                     validation_data=(X_test, y_test),\n",
        "                                     epochs=30, batch_size=128)\n",
        "predict_1l_1LSTM = model_1l_1LSTM.predict(X_test)"
      ]
    },
    {
      "cell_type": "code",
      "execution_count": null,
      "metadata": {
        "colab": {
          "base_uri": "https://localhost:8080/",
          "height": 447
        },
        "id": "pTYzv3b1sCmw",
        "outputId": "feab525a-3550-4bcf-9de1-8db0e55b029d"
      },
      "outputs": [],
      "source": [
        "pd.DataFrame(history_1l_1LSTM.history).plot()"
      ]
    },
    {
      "cell_type": "code",
      "execution_count": null,
      "metadata": {
        "colab": {
          "base_uri": "https://localhost:8080/",
          "height": 523
        },
        "id": "C8Lhyfv0SmK-",
        "outputId": "19277294-8092-4919-b1cf-579f4f3874a2"
      },
      "outputs": [],
      "source": [
        "plot_confusion_matrix(y_test, predict_1l_1LSTM.round(), ['Ia', 'nonIa'], normalize=True)"
      ]
    },
    {
      "cell_type": "code",
      "execution_count": null,
      "metadata": {
        "colab": {
          "base_uri": "https://localhost:8080/",
          "height": 489
        },
        "id": "rgcvU7cJRz6z",
        "outputId": "e40c14db-e5ac-4403-d56b-f47a5acede78"
      },
      "outputs": [],
      "source": [
        "plot_roc_curve(y_test, predict_1l_1LSTM.round(), auc_print=True)"
      ]
    },
    {
      "cell_type": "code",
      "execution_count": null,
      "metadata": {
        "colab": {
          "base_uri": "https://localhost:8080/"
        },
        "id": "pbRUV9GKR6W9",
        "outputId": "1e9ab5c1-5cf4-47c6-a38c-b6f96e0a819b"
      },
      "outputs": [],
      "source": [
        "acc_1l_1LSTM = model_1l_1LSTM.evaluate(X_test, y_test, verbose=0)\n",
        "print(f'accuracy: {acc_1l_1LSTM[1] * 100 : 0.2f}%')"
      ]
    },
    {
      "cell_type": "markdown",
      "metadata": {
        "id": "nZe2LyDX0Vow"
      },
      "source": [
        "## GRU"
      ]
    },
    {
      "cell_type": "code",
      "execution_count": null,
      "metadata": {
        "colab": {
          "base_uri": "https://localhost:8080/"
        },
        "id": "uHMBbjmYsH-U",
        "outputId": "fb8c84ac-0ecd-4f72-e7cd-4d7f8fadadd9"
      },
      "outputs": [],
      "source": [
        "model_1l_1GRU = Sequential()\n",
        "model_1l_1GRU.add(GRU(1, input_shape=(seq_len, feat),\n",
        "                      return_sequences=True, dropout=0.2))\n",
        "model_1l_1GRU.add(BatchNormalization())\n",
        "model_1l_1GRU.add(Flatten())\n",
        "model_1l_1GRU.add(Dense(1, activation='sigmoid'))\n",
        "\n",
        "optimizer = optimizers.Adam()\n",
        "model_1l_1GRU.compile(loss='binary_crossentropy',\n",
        "                      optimizer=optimizer,\n",
        "                      metrics=['accuracy'])\n",
        "model_1l_1GRU.summary()"
      ]
    },
    {
      "cell_type": "code",
      "execution_count": null,
      "metadata": {
        "colab": {
          "base_uri": "https://localhost:8080/"
        },
        "id": "rM4mPmz8sOBp",
        "outputId": "a86c5981-fdc3-4ff7-f2c9-6a3e275fc9e8"
      },
      "outputs": [],
      "source": [
        "history_1l_1GRU = model_1l_1GRU.fit(X_train, y_train,\n",
        "                                   validation_data=(X_test, y_test),\n",
        "                                   epochs=30, batch_size=128)\n",
        "predict_1l_1GRU = model_1l_1GRU.predict(X_test)"
      ]
    },
    {
      "cell_type": "code",
      "execution_count": null,
      "metadata": {
        "colab": {
          "base_uri": "https://localhost:8080/",
          "height": 447
        },
        "id": "_sR1LLD2sRat",
        "outputId": "26f0f3ee-6431-42d1-bf1d-46d52ce4fcb1"
      },
      "outputs": [],
      "source": [
        "pd.DataFrame(history_1l_1GRU.history).plot()"
      ]
    },
    {
      "cell_type": "code",
      "execution_count": null,
      "metadata": {
        "colab": {
          "base_uri": "https://localhost:8080/",
          "height": 523
        },
        "id": "s3xtIbl_t-wU",
        "outputId": "2dbcb72d-3a89-4ea9-8fa9-417c4c8c4636"
      },
      "outputs": [],
      "source": [
        "plot_confusion_matrix(y_test, predict_1l_1GRU.round(), ['Ia', 'nonIa'], normalize=True)"
      ]
    },
    {
      "cell_type": "code",
      "execution_count": null,
      "metadata": {
        "colab": {
          "base_uri": "https://localhost:8080/",
          "height": 489
        },
        "id": "aHqTENrOLveQ",
        "outputId": "03889615-6dd8-4f00-fb48-0360731a2cca"
      },
      "outputs": [],
      "source": [
        "plot_roc_curve(y_test, predict_1l_1GRU.round(), auc_print=True)"
      ]
    },
    {
      "cell_type": "code",
      "execution_count": null,
      "metadata": {
        "colab": {
          "base_uri": "https://localhost:8080/"
        },
        "id": "MrOHqHVsMBXt",
        "outputId": "3a8859f7-060e-41d3-c925-ec99f60d8648"
      },
      "outputs": [],
      "source": [
        "acc_1l_1GRU = model_1l_1GRU.evaluate(X_test, y_test, verbose=0)\n",
        "print(f'accuracy: {acc_1l_1GRU[1] * 100 : 0.2f}%')"
      ]
    },
    {
      "cell_type": "markdown",
      "metadata": {
        "id": "EevHj6s8Uj9R"
      },
      "source": [
        "## Results\n",
        "\n",
        "- SimpleRNN: slow train\n",
        "- LSTM & GRU: accurate considering only 1 neuron\n",
        "  - LSTM:\n",
        "    - 98% Ia - 94% NonIa \n",
        "    - work better with default _lr_ ~_lr = 1e-3_~\n",
        "  - GRU:\n",
        "    - 94% Ia - 88% NonIa \n",
        "    - work better with default _lr_ ~_lr = 5e-4_~"
      ]
    },
    {
      "cell_type": "markdown",
      "metadata": {
        "id": "sMY5l08LyOE-"
      },
      "source": [
        "# Model: 1 bidirectional layer & 1 neuron\n",
        "---"
      ]
    },
    {
      "cell_type": "markdown",
      "metadata": {
        "id": "jpfER6Gs0bzu"
      },
      "source": [
        "## LSTM"
      ]
    },
    {
      "cell_type": "code",
      "execution_count": null,
      "metadata": {
        "colab": {
          "base_uri": "https://localhost:8080/"
        },
        "id": "1r1AQlfhyUa_",
        "outputId": "bd2c0667-3143-40f5-a20a-035a59d08f55"
      },
      "outputs": [],
      "source": [
        "model_1bl_1LSTM = Sequential()\n",
        "model_1bl_1LSTM.add(Bidirectional(LSTM(1, return_sequences=True, dropout=0.2),\n",
        "                                  input_shape=(seq_len, feat)))\n",
        "model_1bl_1LSTM.add(BatchNormalization())\n",
        "model_1bl_1LSTM.add(Flatten())\n",
        "model_1bl_1LSTM.add(Dense(1, activation='sigmoid'))\n",
        "\n",
        "optimizer = optimizers.Adam()\n",
        "model_1bl_1LSTM.compile(loss='binary_crossentropy',\n",
        "                       optimizer=optimizer,\n",
        "                       metrics=['accuracy'])\n",
        "model_1bl_1LSTM.summary()"
      ]
    },
    {
      "cell_type": "code",
      "execution_count": null,
      "metadata": {
        "colab": {
          "base_uri": "https://localhost:8080/"
        },
        "id": "EyRF8Zgtyvbr",
        "outputId": "b4fe51dc-d79c-4d44-f9d3-6bef647296ac"
      },
      "outputs": [],
      "source": [
        "history_1bl_1LSTM = model_1bl_1LSTM.fit(X_train, y_train,\n",
        "                                     validation_data=(X_test, y_test),\n",
        "                                     epochs=30, batch_size=128)\n",
        "predict_1bl_1LSTM = model_1bl_1LSTM.predict(X_test)"
      ]
    },
    {
      "cell_type": "code",
      "execution_count": null,
      "metadata": {
        "colab": {
          "base_uri": "https://localhost:8080/",
          "height": 447
        },
        "id": "01j_B3w9zEGs",
        "outputId": "10b15ef5-af68-49bc-abbd-c0080b2cdb1c"
      },
      "outputs": [],
      "source": [
        "pd.DataFrame(history_1bl_1LSTM.history).plot()"
      ]
    },
    {
      "cell_type": "code",
      "execution_count": null,
      "metadata": {
        "colab": {
          "base_uri": "https://localhost:8080/",
          "height": 523
        },
        "id": "wPjxnpJ5zfPi",
        "outputId": "8f64a87d-f7dc-4035-f029-863ec93a65c0"
      },
      "outputs": [],
      "source": [
        "plot_confusion_matrix(y_test, predict_1bl_1LSTM.round(), ['Ia', 'nonIa'], normalize=True)"
      ]
    },
    {
      "cell_type": "code",
      "execution_count": null,
      "metadata": {
        "id": "P_LRuqEwSHbg"
      },
      "outputs": [],
      "source": [
        "plot_roc_curve(y_test, predict_1bl_1LSTM.round(), auc_print=True)"
      ]
    },
    {
      "cell_type": "code",
      "execution_count": null,
      "metadata": {
        "id": "0u_2vtEfSKkS"
      },
      "outputs": [],
      "source": [
        "acc_1bl_1LSTM = model_1bl_1LSTM.evaluate(X_test, y_test, verbose=0)\n",
        "print(f'accuracy: {acc_1bl_1LSTM[1] * 100 : 0.2f}%')"
      ]
    },
    {
      "cell_type": "markdown",
      "metadata": {
        "id": "tWJJ3LBU0ejN"
      },
      "source": [
        "## GRU"
      ]
    },
    {
      "cell_type": "code",
      "execution_count": null,
      "metadata": {
        "colab": {
          "base_uri": "https://localhost:8080/"
        },
        "id": "ajLDqw8m0fUa",
        "outputId": "c426cc0c-c475-4dd3-f9c5-a7b6fe7008ea"
      },
      "outputs": [],
      "source": [
        "model_1bl_1GRU = Sequential()\n",
        "model_1bl_1GRU.add(Bidirectional(GRU(1, return_sequences=True, dropout=0.2),\n",
        "                                 input_shape=(seq_len, feat)))\n",
        "model_1bl_1GRU.add(BatchNormalization())\n",
        "model_1bl_1GRU.add(Flatten())\n",
        "model_1bl_1GRU.add(Dense(1, activation='sigmoid'))\n",
        "\n",
        "optimizer = optimizers.Adam()\n",
        "model_1bl_1GRU.compile(loss='binary_crossentropy',\n",
        "                      optimizer=optimizer,\n",
        "                      metrics=['accuracy'])\n",
        "model_1bl_1GRU.summary()"
      ]
    },
    {
      "cell_type": "code",
      "execution_count": null,
      "metadata": {
        "colab": {
          "base_uri": "https://localhost:8080/"
        },
        "id": "JvRoTU_o0uHi",
        "outputId": "56d268fd-6e5e-4fe6-f971-e6d5999a750c"
      },
      "outputs": [],
      "source": [
        "history_1bl_1GRU = model_1bl_1GRU.fit(X_train, y_train,\n",
        "                                      validation_data=(X_test, y_test),\n",
        "                                      epochs=30, batch_size=128)\n",
        "predict_1bl_1GRU = model_1bl_1GRU.predict(X_test)"
      ]
    },
    {
      "cell_type": "code",
      "execution_count": null,
      "metadata": {
        "id": "gZca664s0yik"
      },
      "outputs": [],
      "source": [
        "pd.DataFrame(history_1bl_1GRU.history).plot()"
      ]
    },
    {
      "cell_type": "code",
      "execution_count": null,
      "metadata": {
        "id": "aSpsR7lQ035H"
      },
      "outputs": [],
      "source": [
        "plot_confusion_matrix(y_test, predict_1bl_1GRU.round(), ['Ia', 'nonIa'], normalize=True)"
      ]
    },
    {
      "cell_type": "code",
      "execution_count": null,
      "metadata": {
        "id": "RVGJHahTSSil"
      },
      "outputs": [],
      "source": [
        "plot_roc_curve(y_test, predict_1bl_1GRU.round(), auc_print=True)"
      ]
    },
    {
      "cell_type": "code",
      "execution_count": null,
      "metadata": {
        "id": "S-TylfjOSVHA"
      },
      "outputs": [],
      "source": [
        "acc_1bl_1GRU = model_1bl_1GRU.evaluate(X_test, y_test, verbose=0)\n",
        "print(f'accuracy: {acc_1bl_1GRU[1] * 100 : 0.2f}%')"
      ]
    },
    {
      "cell_type": "markdown",
      "metadata": {
        "id": "PJ2g4qP91y-7"
      },
      "source": [
        "## Results\n",
        "\n",
        "- LSTM & GRU: accuracy improve using bidirectional layer\n",
        "\n",
        "  - LSTM: 94% Ia - 98% NonIa\n",
        "  - GRU: 98% Ia - 94% NonIa"
      ]
    },
    {
      "cell_type": "markdown",
      "metadata": {
        "id": "lfRIcYX_CPJU"
      },
      "source": [
        "# Model: 1 bidirectional layer & 4 neurons\n",
        "---"
      ]
    },
    {
      "cell_type": "markdown",
      "metadata": {
        "id": "cftcHaSVCYFl"
      },
      "source": [
        "## LSTM \n"
      ]
    },
    {
      "cell_type": "code",
      "execution_count": null,
      "metadata": {
        "id": "otSdrJyJCWH8"
      },
      "outputs": [],
      "source": [
        "model_1bl_4LSTM = Sequential()\n",
        "model_1bl_4LSTM.add(Bidirectional(LSTM(4, return_sequences=True, dropout=0.2),\n",
        "                                  input_shape=(seq_len, feat)))\n",
        "model_1bl_4LSTM.add(BatchNormalization())\n",
        "model_1bl_4LSTM.add(Flatten())\n",
        "model_1bl_4LSTM.add(Dense(1, activation='sigmoid'))\n",
        "\n",
        "optimizer = optimizers.Adam()\n",
        "model_1bl_4LSTM.compile(loss='binary_crossentropy',\n",
        "                       optimizer=optimizer,\n",
        "                       metrics=['accuracy'])\n",
        "model_1bl_4LSTM.summary()"
      ]
    },
    {
      "cell_type": "code",
      "execution_count": null,
      "metadata": {
        "colab": {
          "base_uri": "https://localhost:8080/"
        },
        "id": "jhirr4W9Cjsn",
        "outputId": "516c19fc-327d-485b-bfb8-a44bff5f91e8"
      },
      "outputs": [],
      "source": [
        "history_1bl_4LSTM = model_1bl_4LSTM.fit(X_train, y_train,\n",
        "                                     validation_data=(X_test, y_test),\n",
        "                                     epochs=30, batch_size=128)\n",
        "predict_1bl_4LSTM = model_1bl_4LSTM.predict(X_test)"
      ]
    },
    {
      "cell_type": "code",
      "execution_count": null,
      "metadata": {
        "id": "_sA6Aa2VCmWY"
      },
      "outputs": [],
      "source": [
        "pd.DataFrame(history_1bl_4LSTM.history).plot()"
      ]
    },
    {
      "cell_type": "code",
      "execution_count": null,
      "metadata": {
        "id": "A7UECMteCo2X"
      },
      "outputs": [],
      "source": [
        "plot_confusion_matrix(y_test, predict_1bl_4LSTM.round(), ['Ia', 'nonIa'], normalize=True)"
      ]
    },
    {
      "cell_type": "code",
      "execution_count": null,
      "metadata": {
        "id": "EDS7HXMcSm0e"
      },
      "outputs": [],
      "source": [
        "plot_roc_curve(y_test, predict_1bl_4LSTM.round(), auc_print=True)"
      ]
    },
    {
      "cell_type": "code",
      "execution_count": null,
      "metadata": {
        "id": "c9mpK3NdSqdI"
      },
      "outputs": [],
      "source": [
        "acc_1bl_4LSTM = model_1bl_4LSTM.evaluate(X_test, y_test, verbose=0)\n",
        "print(f'accuracy: {acc_1bl_4LSTM[1] * 100 : 0.2f}%')"
      ]
    },
    {
      "cell_type": "markdown",
      "metadata": {
        "id": "5HPrASXXCtNL"
      },
      "source": [
        "## GRU"
      ]
    },
    {
      "cell_type": "code",
      "execution_count": null,
      "metadata": {
        "id": "uQOJkYfwCuKT"
      },
      "outputs": [],
      "source": [
        "model_1bl_4GRU = Sequential()\n",
        "model_1bl_4GRU.add(Bidirectional(GRU(4, return_sequences=True, dropout=0.2),\n",
        "                                 input_shape=(seq_len, feat)))\n",
        "model_1bl_4GRU.add(BatchNormalization())\n",
        "model_1bl_4GRU.add(Flatten())\n",
        "model_1bl_4GRU.add(Dense(1, activation='sigmoid'))\n",
        "\n",
        "optimizer = optimizers.Adam()\n",
        "model_1bl_4GRU.compile(loss='binary_crossentropy',\n",
        "                      optimizer=optimizer,\n",
        "                      metrics=['accuracy'])\n",
        "model_1bl_4GRU.summary()"
      ]
    },
    {
      "cell_type": "code",
      "execution_count": null,
      "metadata": {
        "id": "1fDMVMxoC3Fp"
      },
      "outputs": [],
      "source": [
        "history_1bl_4GRU = model_1bl_4GRU.fit(X_train, y_train,\n",
        "                                      validation_data=(X_test, y_test),\n",
        "                                      epochs=30, batch_size=128)\n",
        "predict_1bl_4GRU = model_1bl_4GRU.predict(X_test)"
      ]
    },
    {
      "cell_type": "code",
      "execution_count": null,
      "metadata": {
        "id": "zxmLmPzhC9zq"
      },
      "outputs": [],
      "source": [
        "pd.DataFrame(history_1bl_4GRU.history).plot()"
      ]
    },
    {
      "cell_type": "code",
      "execution_count": null,
      "metadata": {
        "colab": {
          "base_uri": "https://localhost:8080/",
          "height": 523
        },
        "id": "CnQY0ewDC-Qy",
        "outputId": "296ad1c4-b91f-434c-eec8-797115e0367c"
      },
      "outputs": [],
      "source": [
        "plot_confusion_matrix(y_test, predict_1bl_4GRU.round(), ['Ia', 'nonIa'], normalize=True)"
      ]
    },
    {
      "cell_type": "code",
      "execution_count": null,
      "metadata": {
        "id": "B4h2i0mWSwAA"
      },
      "outputs": [],
      "source": [
        "plot_roc_curve(y_test, predict_1bl_4GRU.round(), auc_print=True)"
      ]
    },
    {
      "cell_type": "code",
      "execution_count": null,
      "metadata": {
        "id": "j7bMSXN4SyJ2"
      },
      "outputs": [],
      "source": [
        "acc_1bl_4GRU = model_1bl_4GRU.evaluate(X_test, y_test, verbose=0)\n",
        "print(f'accuracy: {acc_1bl_4GRU[1] * 100 : 0.2f}%')"
      ]
    },
    {
      "cell_type": "markdown",
      "metadata": {
        "id": "ulQaHL4lUsfC"
      },
      "source": [
        "# Model: 1 bidirectional layer & 64 neurons\n",
        "---"
      ]
    },
    {
      "cell_type": "markdown",
      "metadata": {
        "id": "MnX4OLUDU4jF"
      },
      "source": [
        "## LSTM"
      ]
    },
    {
      "cell_type": "code",
      "execution_count": null,
      "metadata": {
        "colab": {
          "base_uri": "https://localhost:8080/"
        },
        "id": "LYeQR940VLbI",
        "outputId": "3a976d7e-0546-4116-a2bd-1696a09a2637"
      },
      "outputs": [],
      "source": [
        "model_1bl_64LSTM = Sequential()\n",
        "model_1bl_64LSTM.add(Bidirectional(LSTM(64, return_sequences=True, dropout=0.2),\n",
        "                                   input_shape=(seq_len, feat)))\n",
        "model_1bl_64LSTM.add(BatchNormalization())\n",
        "model_1bl_64LSTM.add(Flatten())\n",
        "model_1bl_64LSTM.add(Dense(1, activation='sigmoid'))\n",
        "\n",
        "optimizer = optimizers.Adam()\n",
        "model_1bl_64LSTM.compile(loss='binary_crossentropy',\n",
        "                       optimizer=optimizer,\n",
        "                       metrics=['accuracy'])\n",
        "model_1bl_64LSTM.summary()"
      ]
    },
    {
      "cell_type": "code",
      "execution_count": null,
      "metadata": {
        "colab": {
          "base_uri": "https://localhost:8080/"
        },
        "id": "ykwy3dyoVLbI",
        "outputId": "786d1bdb-8ff4-4c0c-f5e7-ac93bc8931d5"
      },
      "outputs": [],
      "source": [
        "history_1bl_64LSTM = model_1bl_64LSTM.fit(X_train, y_train,\n",
        "                                          validation_data=(X_test, y_test),\n",
        "                                          epochs=30, batch_size=128)\n",
        "predict_1bl_64LSTM = model_1bl_64LSTM.predict(X_test)"
      ]
    },
    {
      "cell_type": "code",
      "execution_count": null,
      "metadata": {
        "colab": {
          "base_uri": "https://localhost:8080/"
        },
        "id": "ivw1n2InVLbI",
        "outputId": "16baf16c-2cc2-468f-dfcc-53140801822b"
      },
      "outputs": [],
      "source": [
        "pd.DataFrame(history_1bl_64LSTM.history).plot()"
      ]
    },
    {
      "cell_type": "code",
      "execution_count": null,
      "metadata": {
        "colab": {
          "base_uri": "https://localhost:8080/"
        },
        "id": "QhvfEqViVLbI",
        "outputId": "5bc75c41-1916-4d02-b52e-1b34861fe2bf"
      },
      "outputs": [],
      "source": [
        "plot_confusion_matrix(y_test, predict_1bl_64LSTM.round(), ['Ia', 'nonIa'], normalize=True)"
      ]
    },
    {
      "cell_type": "code",
      "execution_count": null,
      "metadata": {
        "colab": {
          "base_uri": "https://localhost:8080/"
        },
        "id": "wrKa3W3oVLbI",
        "outputId": "6ca9e2e0-3e59-4826-f365-6b5f3904ceaa"
      },
      "outputs": [],
      "source": [
        "plot_roc_curve(y_test, predict_1bl_64LSTM.round(), auc_print=True)"
      ]
    },
    {
      "cell_type": "code",
      "execution_count": null,
      "metadata": {
        "colab": {
          "base_uri": "https://localhost:8080/"
        },
        "id": "xY-LTTiXVLbI",
        "outputId": "9ff90fb3-8235-4e29-fbe9-4d6915da1061"
      },
      "outputs": [],
      "source": [
        "acc_1bl_64LSTM = model_1bl_64LSTM.evaluate(X_test, y_test, verbose=0)\n",
        "print(f'accuracy: {acc_1bl_64LSTM[1] * 100 : 0.2f}%')"
      ]
    },
    {
      "cell_type": "markdown",
      "metadata": {
        "id": "sEZAr-07VLbJ"
      },
      "source": [
        "## GRU"
      ]
    },
    {
      "cell_type": "code",
      "execution_count": null,
      "metadata": {
        "colab": {
          "base_uri": "https://localhost:8080/"
        },
        "id": "3PBBDea6VLbJ",
        "outputId": "969b86ed-1239-451f-ad80-c39ead0534cf"
      },
      "outputs": [],
      "source": [
        "model_1bl_64GRU = Sequential()\n",
        "model_1bl_64GRU.add(Bidirectional(GRU(64, return_sequences=True, dropout=0.2),\n",
        "                                  input_shape=(seq_len, feat)))\n",
        "model_1bl_64GRU.add(BatchNormalization())\n",
        "model_1bl_64GRU.add(Flatten())\n",
        "model_1bl_64GRU.add(Dense(1, activation='sigmoid'))\n",
        "\n",
        "optimizer = optimizers.Adam()\n",
        "model_1bl_64GRU.compile(loss='binary_crossentropy',\n",
        "                        optimizer=optimizer,\n",
        "                        metrics=['accuracy'])\n",
        "model_1bl_64GRU.summary()"
      ]
    },
    {
      "cell_type": "code",
      "execution_count": null,
      "metadata": {
        "colab": {
          "base_uri": "https://localhost:8080/"
        },
        "id": "4x8VxowuVLbJ",
        "outputId": "8b7bf945-d119-497f-d3ad-b147b9f4605a"
      },
      "outputs": [],
      "source": [
        "history_1bl_64GRU = model_1bl_64GRU.fit(X_train, y_train,\n",
        "                                        validation_data=(X_test, y_test),\n",
        "                                        epochs=30, batch_size=128)\n",
        "predict_1bl_64GRU = model_1bl_64GRU.predict(X_test)"
      ]
    },
    {
      "cell_type": "code",
      "execution_count": null,
      "metadata": {
        "colab": {
          "base_uri": "https://localhost:8080/"
        },
        "id": "BSXf1uBNVLbJ",
        "outputId": "86a2ded0-b457-4f1b-a4dc-97e3f8eefa42"
      },
      "outputs": [],
      "source": [
        "pd.DataFrame(history_1bl_64GRU.history).plot()"
      ]
    },
    {
      "cell_type": "code",
      "execution_count": null,
      "metadata": {
        "colab": {
          "base_uri": "https://localhost:8080/"
        },
        "id": "tIEDcKjJVLbJ",
        "outputId": "a7707acf-fd9a-4899-c138-ba8118a27863"
      },
      "outputs": [],
      "source": [
        "plot_confusion_matrix(y_test, predict_1bl_64GRU.round(), ['Ia', 'nonIa'], normalize=True)"
      ]
    },
    {
      "cell_type": "code",
      "execution_count": null,
      "metadata": {
        "colab": {
          "base_uri": "https://localhost:8080/"
        },
        "id": "lgwOzkRkVLbJ",
        "outputId": "d5fe4e7f-ee08-459f-d6c9-985fca423ce8"
      },
      "outputs": [],
      "source": [
        "plot_roc_curve(y_test, predict_1bl_64GRU.round(), auc_print=True)"
      ]
    },
    {
      "cell_type": "code",
      "execution_count": null,
      "metadata": {
        "colab": {
          "base_uri": "https://localhost:8080/"
        },
        "id": "3hZifI13VLbJ",
        "outputId": "5d20b36b-ea2e-4d20-f2b8-a7ed25451d88"
      },
      "outputs": [],
      "source": [
        "acc_1bl_64GRU = model_1bl_64GRU.evaluate(X_test, y_test, verbose=0)\n",
        "print(f'accuracy: {acc_1bl_64GRU[1] * 100 : 0.2f}%')"
      ]
    },
    {
      "cell_type": "markdown",
      "metadata": {
        "id": "hR4Bjh_7Er5t"
      },
      "source": [
        "# Model: 2 bidirectional layer & 4 neurons\n",
        "---\n",
        "- 2 per layer"
      ]
    },
    {
      "cell_type": "markdown",
      "metadata": {
        "id": "PotGbVXyE1_l"
      },
      "source": [
        "## LSTM"
      ]
    },
    {
      "cell_type": "code",
      "execution_count": null,
      "metadata": {
        "id": "G5p4bAYTEy8P"
      },
      "outputs": [],
      "source": [
        "model_2bl_4LSTM = Sequential()\n",
        "model_2bl_4LSTM.add(Bidirectional(LSTM(2, return_sequences=True, dropout=0.2),\n",
        "                                  input_shape=(seq_len, feat)))\n",
        "model_2bl_4LSTM.add(BatchNormalization())\n",
        "\n",
        "model_2bl_4LSTM.add(Bidirectional(LSTM(2, return_sequences=True, dropout=0.2),\n",
        "                                  input_shape=(seq_len, feat)))\n",
        "model_2bl_4LSTM.add(Flatten())\n",
        "model_2bl_4LSTM.add(Dense(1, activation='sigmoid'))\n",
        "\n",
        "optimizer = optimizers.Adam()\n",
        "model_2bl_4LSTM.compile(loss='binary_crossentropy',\n",
        "                       optimizer=optimizer,\n",
        "                       metrics=['accuracy'])\n",
        "model_2bl_4LSTM.summary()"
      ]
    },
    {
      "cell_type": "code",
      "execution_count": null,
      "metadata": {
        "colab": {
          "base_uri": "https://localhost:8080/"
        },
        "id": "g4OqsYcGFQe7",
        "outputId": "e1050284-b1a9-4028-c412-5e864ebaaa28"
      },
      "outputs": [],
      "source": [
        "history_2bl_4LSTM = model_2bl_4LSTM.fit(X_train, y_train,\n",
        "                                      validation_data=(X_test, y_test),\n",
        "                                      epochs=30, batch_size=128)\n",
        "predict_2bl_4LSTM = model_2bl_4LSTM.predict(X_test)"
      ]
    },
    {
      "cell_type": "code",
      "execution_count": null,
      "metadata": {
        "colab": {
          "base_uri": "https://localhost:8080/",
          "height": 447
        },
        "id": "gps_nf_BFT15",
        "outputId": "ac123838-2531-4c2d-e759-0a3235312028"
      },
      "outputs": [],
      "source": [
        "pd.DataFrame(history_2bl_4LSTM.history).plot()"
      ]
    },
    {
      "cell_type": "code",
      "execution_count": null,
      "metadata": {
        "colab": {
          "base_uri": "https://localhost:8080/",
          "height": 523
        },
        "id": "mhE0DTUbFdnq",
        "outputId": "841c2098-9018-4757-8968-d3d2508cd266"
      },
      "outputs": [],
      "source": [
        "plot_confusion_matrix(y_test, predict_2bl_4LSTM.round(), ['Ia', 'nonIa'], normalize=True)"
      ]
    },
    {
      "cell_type": "code",
      "execution_count": null,
      "metadata": {
        "id": "JzHw3JssS6Vo"
      },
      "outputs": [],
      "source": [
        "plot_roc_curve(y_test, predict_2bl_4LSTM.round(), auc_print=True)"
      ]
    },
    {
      "cell_type": "code",
      "execution_count": null,
      "metadata": {
        "id": "V4ttYTUjS98I"
      },
      "outputs": [],
      "source": [
        "acc_2bl_4LSTM = model_2bl_4LSTM.evaluate(X_test, y_test, verbose=0)\n",
        "print(f'accuracy: {acc_2bll_4LSTM[1] * 100 : 0.2f}%')"
      ]
    },
    {
      "cell_type": "markdown",
      "metadata": {
        "id": "50j-TF-W1RKW"
      },
      "source": [
        "## GRU"
      ]
    },
    {
      "cell_type": "code",
      "execution_count": null,
      "metadata": {
        "colab": {
          "base_uri": "https://localhost:8080/"
        },
        "id": "3I1LFwuR1SJi",
        "outputId": "078cd58e-5df9-4db8-c8af-efa65ae6ffcd"
      },
      "outputs": [],
      "source": [
        "model_2bl_4GRU= Sequential()\n",
        "model_2bl_4GRU.add(Bidirectional(GRU(2, return_sequences=True, dropout=0.2),\n",
        "                                 input_shape=(seq_len, feat)))\n",
        "model_2bl_4GRU.add(BatchNormalization())\n",
        "\n",
        "model_2bl_4GRU.add(Bidirectional(GRU(2, return_sequences=True, dropout=0.2),\n",
        "                                 input_shape=(seq_len, feat)))\n",
        "model_2bl_4GRU.add(Flatten())\n",
        "model_2bl_4GRU.add(Dense(1, activation='sigmoid'))\n",
        "\n",
        "optimizer = optimizers.Adam()\n",
        "model_2bl_4GRU.compile(loss='binary_crossentropy',\n",
        "                       optimizer=optimizer,\n",
        "                       metrics=['accuracy'])\n",
        "model_2bl_4GRU.summary()"
      ]
    },
    {
      "cell_type": "code",
      "execution_count": null,
      "metadata": {
        "colab": {
          "base_uri": "https://localhost:8080/"
        },
        "id": "Ep83MfJ12HI0",
        "outputId": "9295f104-14d9-43f1-8a27-256e378c7c0d"
      },
      "outputs": [],
      "source": [
        "history_2bl_4GRU= model_2bl_4GRU.fit(X_train, y_train,\n",
        "                                     validation_data=(X_test, y_test),\n",
        "                                     epochs=30, batch_size=128)\n",
        "predict_2bl_4GRU = model_2bl_4GRU.predict(X_test)"
      ]
    },
    {
      "cell_type": "code",
      "execution_count": null,
      "metadata": {
        "colab": {
          "base_uri": "https://localhost:8080/",
          "height": 450
        },
        "id": "Q17KDvQI2OZ9",
        "outputId": "4901c494-3e73-4a87-ccf5-6d49300fab2b"
      },
      "outputs": [],
      "source": [
        "pd.DataFrame(history_2bl_4GRU.history).plot()"
      ]
    },
    {
      "cell_type": "code",
      "execution_count": null,
      "metadata": {
        "colab": {
          "base_uri": "https://localhost:8080/",
          "height": 523
        },
        "id": "KBA2ZES52QI4",
        "outputId": "372bb5f8-36a0-418f-a948-5adec54ee9bb"
      },
      "outputs": [],
      "source": [
        "plot_confusion_matrix(y_test, predict_2bl_4GRU.round(), ['Ia', 'nonIa'], normalize=True)"
      ]
    },
    {
      "cell_type": "code",
      "execution_count": null,
      "metadata": {
        "id": "tfcs-hWFEmVs"
      },
      "outputs": [],
      "source": [
        "plot_roc_curve(y_test, predict_2bl_4GRU.round(), auc_print=True)"
      ]
    },
    {
      "cell_type": "code",
      "execution_count": null,
      "metadata": {
        "id": "780fuRzYTODU"
      },
      "outputs": [],
      "source": [
        "acc_2bl_4GRU = model_2bl_4GRU.evaluate(X_test, y_test, verbose=0)\n",
        "print(f'accuracy: {acc_2bl_4GRU[1] * 100 : 0.2f}%')"
      ]
    }
  ],
  "metadata": {
    "accelerator": "GPU",
    "colab": {
      "collapsed_sections": [
        "M6G7s0tLKKFk",
        "nZe2LyDX0Vow",
        "sMY5l08LyOE-",
        "lfRIcYX_CPJU",
        "cftcHaSVCYFl",
        "5HPrASXXCtNL",
        "ulQaHL4lUsfC",
        "hR4Bjh_7Er5t"
      ],
      "gpuType": "T4",
      "provenance": []
    },
    "kernelspec": {
      "display_name": "Python 3",
      "name": "python3"
    },
    "language_info": {
      "codemirror_mode": {
        "name": "ipython",
        "version": 3
      },
      "file_extension": ".py",
      "mimetype": "text/x-python",
      "name": "python",
      "nbconvert_exporter": "python",
      "pygments_lexer": "ipython3",
      "version": "3.9.13"
    }
  },
  "nbformat": 4,
  "nbformat_minor": 0
}
