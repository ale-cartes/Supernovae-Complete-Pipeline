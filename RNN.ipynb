{
 "cells": [
  {
   "cell_type": "code",
   "execution_count": 9,
   "metadata": {},
   "outputs": [],
   "source": [
    "from preprocess import *\n",
    "from tensorflow.keras.models import Sequential\n",
    "from tensorflow.keras.layers import Dense, LSTM\n",
    "from sklearn.preprocessing import LabelEncoder"
   ]
  },
  {
   "cell_type": "code",
   "execution_count": 10,
   "metadata": {},
   "outputs": [],
   "source": [
    "seed = 42\n",
    "\n",
    "def train_test_band(band, seed=seed):\n",
    "    \"\"\"\n",
    "    Function that\n",
    "    \"\"\"\n",
    "\n",
    "    np.random.seed(seed)\n",
    "\n",
    "    curves_band = curves[curves.BAND == f'{band} ']\n",
    "\n",
    "    N_curves = curves_band.obs.max()\n",
    "    N_train = int(0.5 * N_curves)\n",
    "\n",
    "    obs_train = np.random.choice(np.arange(1, N_curves + 1), N_train, replace=False)\n",
    "    train_filter = curves_band.obs.isin(obs_train)\n",
    "\n",
    "    X_label= ['obs', 'Days', 'FLUXCAL', 'FLUXCALERR']\n",
    "    Y_label  = ['Type']\n",
    "\n",
    "    X_train = curves_band[train_filter][X_label]\n",
    "    Y_train = curves_band[train_filter][Y_label]\n",
    "\n",
    "    X_test = curves_band[~train_filter][X_label]\n",
    "    Y_test = curves_band[~train_filter][Y_label]\n",
    "\n",
    "    # reshape\n",
    "    X_train = np.reshape(X_train.values, (X_train.shape[0], X_train.shape[1], 1))\n",
    "    X_test = np.reshape(X_test.values, (X_test.shape[0], X_test.shape[1], 1))\n",
    "\n",
    "    return X_train, X_test, Y_train, Y_test\n",
    "\n",
    "X_train_g, X_test_g, Y_train_g, Y_test_g = train_test_band('g')\n"
   ]
  },
  {
   "attachments": {},
   "cell_type": "markdown",
   "metadata": {},
   "source": [
    "## Model 1\n",
    "\n",
    "- 32 LSTM cells"
   ]
  },
  {
   "cell_type": "code",
   "execution_count": 13,
   "metadata": {},
   "outputs": [
    {
     "name": "stdout",
     "output_type": "stream",
     "text": [
      "Model: \"sequential\"\n",
      "_________________________________________________________________\n",
      " Layer (type)                Output Shape              Param #   \n",
      "=================================================================\n",
      " lstm (LSTM)                 (None, None, 32)          4352      \n",
      "                                                                 \n",
      " dense (Dense)               (None, None, 1)           33        \n",
      "                                                                 \n",
      "=================================================================\n",
      "Total params: 4,385\n",
      "Trainable params: 4,385\n",
      "Non-trainable params: 0\n",
      "_________________________________________________________________\n"
     ]
    }
   ],
   "source": [
    "model = Sequential()\n",
    "model.add(LSTM(32, input_shape=(None, 1), return_sequences=True))\n",
    "model.add(Dense(1, activation='sigmoid'))\n",
    "model.compile(loss='binary_crossentropy', optimizer='adam', metrics=['accuracy'])\n",
    "\n",
    "model.summary()"
   ]
  },
  {
   "cell_type": "code",
   "execution_count": 14,
   "metadata": {},
   "outputs": [
    {
     "name": "stdout",
     "output_type": "stream",
     "text": [
      "Epoch 1/10\n",
      "57716/57716 [==============================] - 159s 3ms/step - loss: 0.6658 - accuracy: 0.5719 - val_loss: 0.6645 - val_accuracy: 0.5737\n",
      "Epoch 2/10\n",
      "57716/57716 [==============================] - 184s 3ms/step - loss: 0.6634 - accuracy: 0.5738 - val_loss: 0.6638 - val_accuracy: 0.5747\n",
      "Epoch 3/10\n",
      "57716/57716 [==============================] - 178s 3ms/step - loss: 0.6621 - accuracy: 0.5747 - val_loss: 0.6602 - val_accuracy: 0.5785\n",
      "Epoch 4/10\n",
      "57716/57716 [==============================] - 165s 3ms/step - loss: 0.6609 - accuracy: 0.5757 - val_loss: 0.6602 - val_accuracy: 0.5787\n",
      "Epoch 5/10\n",
      "57716/57716 [==============================] - 154s 3ms/step - loss: 0.6605 - accuracy: 0.5757 - val_loss: 0.6598 - val_accuracy: 0.5784\n",
      "Epoch 6/10\n",
      "57716/57716 [==============================] - 169s 3ms/step - loss: 0.6601 - accuracy: 0.5758 - val_loss: 0.6593 - val_accuracy: 0.5774\n",
      "Epoch 7/10\n",
      "57716/57716 [==============================] - 199s 3ms/step - loss: 0.6601 - accuracy: 0.5761 - val_loss: 0.6598 - val_accuracy: 0.5790\n",
      "Epoch 8/10\n",
      "57716/57716 [==============================] - 191s 3ms/step - loss: 0.6600 - accuracy: 0.5761 - val_loss: 0.6587 - val_accuracy: 0.5781\n",
      "Epoch 9/10\n",
      "57716/57716 [==============================] - 150s 3ms/step - loss: 0.6600 - accuracy: 0.5763 - val_loss: 0.6590 - val_accuracy: 0.5793\n",
      "Epoch 10/10\n",
      "57716/57716 [==============================] - 150s 3ms/step - loss: 0.6598 - accuracy: 0.5764 - val_loss: 0.6592 - val_accuracy: 0.5790\n"
     ]
    },
    {
     "data": {
      "text/plain": [
       "<keras.callbacks.History at 0x2acd8303940>"
      ]
     },
     "execution_count": 14,
     "metadata": {},
     "output_type": "execute_result"
    }
   ],
   "source": [
    "model.fit(X_train_g, Y_train_g, validation_data=(X_test_g, Y_test_g), epochs=10, batch_size=32)\n"
   ]
  },
  {
   "cell_type": "code",
   "execution_count": null,
   "metadata": {},
   "outputs": [],
   "source": []
  }
 ],
 "metadata": {
  "kernelspec": {
   "display_name": "base",
   "language": "python",
   "name": "python3"
  },
  "language_info": {
   "codemirror_mode": {
    "name": "ipython",
    "version": 3
   },
   "file_extension": ".py",
   "mimetype": "text/x-python",
   "name": "python",
   "nbconvert_exporter": "python",
   "pygments_lexer": "ipython3",
   "version": "3.9.13"
  },
  "orig_nbformat": 4,
  "vscode": {
   "interpreter": {
    "hash": "6c0453e26b24401ab92fc4c9258d0e6c3ac378e13e0e842060a1489ed820d196"
   }
  }
 },
 "nbformat": 4,
 "nbformat_minor": 2
}
