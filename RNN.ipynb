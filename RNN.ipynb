{
  "cells": [
    {
      "cell_type": "markdown",
      "metadata": {
        "id": "M6G7s0tLKKFk"
      },
      "source": [
        "# Data & Packages load\n"
      ]
    },
    {
      "cell_type": "code",
      "execution_count": 1,
      "metadata": {
        "id": "wc6nXbGHpkcU"
      },
      "outputs": [],
      "source": [
        "from utils import *\n",
        "\n",
        "import numpy as np\n",
        "import random\n",
        "\n",
        "import tensorflow as tf\n",
        "from tensorflow.keras.models import Sequential\n",
        "from tensorflow.keras.layers import BatchNormalization\n",
        "from tensorflow.keras.layers import SimpleRNN, LSTM, GRU\n",
        "from tensorflow.keras.layers import Dense, Bidirectional, Dropout, Flatten\n",
        "from tensorflow.keras import optimizers\n",
        "from sklearn.metrics import accuracy_score, f1_score, confusion_matrix\n",
        "from sklearn.model_selection import train_test_split\n",
        "\n",
        "seed = 42\n",
        "tf.random.set_seed(seed)\n",
        "np.random.seed(seed)\n",
        "random.seed(seed)\n",
        "\n",
        "%matplotlib inline"
      ]
    },
    {
      "cell_type": "code",
      "execution_count": 2,
      "metadata": {
        "id": "sBLEdkMop8Za"
      },
      "outputs": [],
      "source": [
        "# curves_path = \"./data_folder/curves_fitted.pkl\"\n",
        "# curves_fitted = pd.read_pickle(curves_path)\n",
        "\n",
        "curves_path = \"./data_folder/curves_RNN_norm_aug.npy\"\n",
        "types_path = \"./data_folder/types_RNN_norm_aug.npy\"\n",
        "\n",
        "curves_RNN = np.load(curves_path, mmap_mode='r')\n",
        "types = np.load(types_path)"
      ]
    },
    {
      "cell_type": "code",
      "execution_count": 3,
      "metadata": {
        "id": "e8Jv-qvMqAwj"
      },
      "outputs": [],
      "source": [
        "X_train, X_test, y_train, y_test = train_test_split(curves_RNN, types,\n",
        "                                                    train_size=0.7,\n",
        "                                                    random_state=42)"
      ]
    },
    {
      "cell_type": "code",
      "execution_count": 4,
      "metadata": {
        "colab": {
          "base_uri": "https://localhost:8080/"
        },
        "id": "LF_N9go2qIk0",
        "outputId": "73132bb2-3b54-4485-c760-cc0de4a831db"
      },
      "outputs": [
        {
          "data": {
            "text/plain": [
              "(1527064, 100, 5)"
            ]
          },
          "execution_count": 4,
          "metadata": {},
          "output_type": "execute_result"
        }
      ],
      "source": [
        "n_obs, seq_len, feat = X_train.shape\n",
        "X_train.shape"
      ]
    },
    {
      "cell_type": "code",
      "execution_count": 5,
      "metadata": {},
      "outputs": [],
      "source": [
        "del curves_RNN"
      ]
    },
    {
      "cell_type": "markdown",
      "metadata": {
        "id": "Fpnoh4yDqrkl"
      },
      "source": [
        "# Model: 1 layer & 1 neuron\n",
        "---\n"
      ]
    },
    {
      "cell_type": "markdown",
      "metadata": {
        "id": "CJM4S4m90B7J"
      },
      "source": [
        "## SimpleRNN"
      ]
    },
    {
      "cell_type": "code",
      "execution_count": 6,
      "metadata": {
        "colab": {
          "base_uri": "https://localhost:8080/"
        },
        "id": "wkAV3RyCqUhM",
        "outputId": "51fbafbc-2175-421a-e431-f1dfd87b85bd"
      },
      "outputs": [
        {
          "name": "stdout",
          "output_type": "stream",
          "text": [
            "Model: \"sequential\"\n",
            "_________________________________________________________________\n",
            " Layer (type)                Output Shape              Param #   \n",
            "=================================================================\n",
            " simple_rnn (SimpleRNN)      (None, 100, 1)            7         \n",
            "                                                                 \n",
            " batch_normalization (BatchN  (None, 100, 1)           4         \n",
            " ormalization)                                                   \n",
            "                                                                 \n",
            " flatten (Flatten)           (None, 100)               0         \n",
            "                                                                 \n",
            " dense (Dense)               (None, 1)                 101       \n",
            "                                                                 \n",
            "=================================================================\n",
            "Total params: 112\n",
            "Trainable params: 110\n",
            "Non-trainable params: 2\n",
            "_________________________________________________________________\n"
          ]
        }
      ],
      "source": [
        "model_1l_1simpleRNN = Sequential()\n",
        "model_1l_1simpleRNN.add(SimpleRNN(1, input_shape=(seq_len, feat),\n",
        "                                  return_sequences=True, dropout=0.2))\n",
        "model_1l_1simpleRNN.add(BatchNormalization())\n",
        "model_1l_1simpleRNN.add(Flatten())\n",
        "model_1l_1simpleRNN.add(Dense(1, activation='sigmoid'))\n",
        "\n",
        "optimizer = optimizers.Adam()\n",
        "model_1l_1simpleRNN.compile(loss='binary_crossentropy',\n",
        "                            optimizer=optimizer,\n",
        "                            metrics=['accuracy'])\n",
        "model_1l_1simpleRNN.summary()"
      ]
    },
    {
      "cell_type": "code",
      "execution_count": 7,
      "metadata": {
        "colab": {
          "base_uri": "https://localhost:8080/"
        },
        "id": "MfsbPn2bqvTI",
        "outputId": "dbe10a3d-d9c8-4847-d6db-ee76862b5c91"
      },
      "outputs": [
        {
          "name": "stdout",
          "output_type": "stream",
          "text": [
            "Epoch 1/30\n",
            "11931/11931 [==============================] - 128s 11ms/step - loss: 0.3163 - accuracy: 0.8764 - val_loss: 0.2872 - val_accuracy: 0.8949\n",
            "Epoch 2/30\n",
            "11931/11931 [==============================] - 108s 9ms/step - loss: 0.2969 - accuracy: 0.8864 - val_loss: 0.2837 - val_accuracy: 0.8948\n",
            "Epoch 3/30\n",
            "11931/11931 [==============================] - 107s 9ms/step - loss: 0.2951 - accuracy: 0.8870 - val_loss: 0.2837 - val_accuracy: 0.8957\n",
            "Epoch 4/30\n",
            "11931/11931 [==============================] - 107s 9ms/step - loss: 0.2941 - accuracy: 0.8872 - val_loss: 0.2824 - val_accuracy: 0.8955\n",
            "Epoch 5/30\n",
            "11931/11931 [==============================] - 89s 7ms/step - loss: 0.2938 - accuracy: 0.8872 - val_loss: 0.2828 - val_accuracy: 0.8949\n",
            "Epoch 6/30\n",
            "11931/11931 [==============================] - 90s 8ms/step - loss: 0.2932 - accuracy: 0.8875 - val_loss: 0.2817 - val_accuracy: 0.8946\n",
            "Epoch 7/30\n",
            "11931/11931 [==============================] - 90s 8ms/step - loss: 0.2926 - accuracy: 0.8876 - val_loss: 0.2818 - val_accuracy: 0.8955\n",
            "Epoch 8/30\n",
            "11931/11931 [==============================] - 90s 8ms/step - loss: 0.2919 - accuracy: 0.8879 - val_loss: 0.2809 - val_accuracy: 0.8951\n",
            "Epoch 9/30\n",
            "11931/11931 [==============================] - 91s 8ms/step - loss: 0.2909 - accuracy: 0.8882 - val_loss: 0.2800 - val_accuracy: 0.8952\n",
            "Epoch 10/30\n",
            "11931/11931 [==============================] - 96s 8ms/step - loss: 0.2898 - accuracy: 0.8889 - val_loss: 0.2790 - val_accuracy: 0.8949\n",
            "Epoch 11/30\n",
            "11931/11931 [==============================] - 96s 8ms/step - loss: 0.2888 - accuracy: 0.8893 - val_loss: 0.2774 - val_accuracy: 0.8959\n",
            "Epoch 12/30\n",
            "11931/11931 [==============================] - 93s 8ms/step - loss: 0.2879 - accuracy: 0.8896 - val_loss: 0.2782 - val_accuracy: 0.8942\n",
            "Epoch 13/30\n",
            "11931/11931 [==============================] - 92s 8ms/step - loss: 0.2869 - accuracy: 0.8899 - val_loss: 0.2774 - val_accuracy: 0.8966\n",
            "Epoch 14/30\n",
            "11931/11931 [==============================] - 96s 8ms/step - loss: 0.2861 - accuracy: 0.8906 - val_loss: 0.2757 - val_accuracy: 0.8961\n",
            "Epoch 15/30\n",
            "11931/11931 [==============================] - 95s 8ms/step - loss: 0.2855 - accuracy: 0.8908 - val_loss: 0.2744 - val_accuracy: 0.8966\n",
            "Epoch 16/30\n",
            "11931/11931 [==============================] - 100s 8ms/step - loss: 0.2850 - accuracy: 0.8910 - val_loss: 0.2741 - val_accuracy: 0.8970\n",
            "Epoch 17/30\n",
            "11931/11931 [==============================] - 100s 8ms/step - loss: 0.2843 - accuracy: 0.8912 - val_loss: 0.2748 - val_accuracy: 0.8961\n",
            "Epoch 18/30\n",
            "11931/11931 [==============================] - 100s 8ms/step - loss: 0.2838 - accuracy: 0.8914 - val_loss: 0.2736 - val_accuracy: 0.8961\n",
            "Epoch 19/30\n",
            "11931/11931 [==============================] - 109s 9ms/step - loss: 0.2833 - accuracy: 0.8917 - val_loss: 0.2728 - val_accuracy: 0.8968\n",
            "Epoch 20/30\n",
            "11931/11931 [==============================] - 111s 9ms/step - loss: 0.2829 - accuracy: 0.8915 - val_loss: 0.2724 - val_accuracy: 0.8977\n",
            "Epoch 21/30\n",
            "11931/11931 [==============================] - 104s 9ms/step - loss: 0.2825 - accuracy: 0.8918 - val_loss: 0.2721 - val_accuracy: 0.8969\n",
            "Epoch 22/30\n",
            "11931/11931 [==============================] - 89s 7ms/step - loss: 0.2819 - accuracy: 0.8919 - val_loss: 0.2713 - val_accuracy: 0.8973\n",
            "Epoch 23/30\n",
            "11931/11931 [==============================] - 88s 7ms/step - loss: 0.2815 - accuracy: 0.8922 - val_loss: 0.2709 - val_accuracy: 0.8974\n",
            "Epoch 24/30\n",
            "11931/11931 [==============================] - 100s 8ms/step - loss: 0.2815 - accuracy: 0.8920 - val_loss: 0.2712 - val_accuracy: 0.8968\n",
            "Epoch 25/30\n",
            "11931/11931 [==============================] - 139s 12ms/step - loss: 0.2810 - accuracy: 0.8920 - val_loss: 0.2707 - val_accuracy: 0.8977\n",
            "Epoch 26/30\n",
            "11931/11931 [==============================] - 128s 11ms/step - loss: 0.2809 - accuracy: 0.8922 - val_loss: 0.2706 - val_accuracy: 0.8965\n",
            "Epoch 27/30\n",
            "11931/11931 [==============================] - 100s 8ms/step - loss: 0.2807 - accuracy: 0.8921 - val_loss: 0.2702 - val_accuracy: 0.8972\n",
            "Epoch 28/30\n",
            "11931/11931 [==============================] - 109s 9ms/step - loss: 0.2806 - accuracy: 0.8922 - val_loss: 0.2696 - val_accuracy: 0.8975\n",
            "Epoch 29/30\n",
            "11931/11931 [==============================] - 101s 8ms/step - loss: 0.2805 - accuracy: 0.8922 - val_loss: 0.2694 - val_accuracy: 0.8975\n",
            "Epoch 30/30\n",
            "11931/11931 [==============================] - 102s 9ms/step - loss: 0.2804 - accuracy: 0.8921 - val_loss: 0.2700 - val_accuracy: 0.8975\n",
            "20452/20452 [==============================] - 54s 3ms/step\n"
          ]
        }
      ],
      "source": [
        "history_1l_1simpleRNN = model_1l_1simpleRNN.fit(X_train, y_train,\n",
        "                                                validation_data=(X_test, y_test),\n",
        "                                                epochs=30, batch_size=128)\n",
        "predict_1l_1simpleRNN = model_1l_1simpleRNN.predict(X_test)"
      ]
    },
    {
      "cell_type": "code",
      "execution_count": 8,
      "metadata": {
        "colab": {
          "base_uri": "https://localhost:8080/",
          "height": 447
        },
        "id": "YZjrJrXNrqqM",
        "outputId": "dfb9df03-1e21-4756-90b4-eee18d30acf7"
      },
      "outputs": [
        {
          "data": {
            "text/plain": [
              "Text(0.5, 1.0, '1 layer - 1 simpleRNN')"
            ]
          },
          "execution_count": 8,
          "metadata": {},
          "output_type": "execute_result"
        },
        {
          "data": {
            "image/png": "[encoded data removed]",
            "text/plain": [
              "<Figure size 640x480 with 1 Axes>"
            ]
          },
          "metadata": {},
          "output_type": "display_data"
        }
      ],
      "source": [
        "ax = pd.DataFrame(history_1l_1simpleRNN.history).plot()\n",
        "ax.set_xlabel('epoch')\n",
        "ax.set_title('1 layer - 1 simpleRNN')"
      ]
    },
    {
      "cell_type": "code",
      "execution_count": 9,
      "metadata": {
        "colab": {
          "base_uri": "https://localhost:8080/",
          "height": 523
        },
        "id": "0i05gxXXSNSN",
        "outputId": "e5fd6851-6204-4c45-fb0d-ca1bc848f99f"
      },
      "outputs": [
        {
          "name": "stdout",
          "output_type": "stream",
          "text": [
            "Normalized confusion matrix\n"
          ]
        },
        {
          "data": {
            "image/png": "[encoded data removed]",
            "text/plain": [
              "<Figure size 640x480 with 2 Axes>"
            ]
          },
          "metadata": {},
          "output_type": "display_data"
        }
      ],
      "source": [
        "plot_confusion_matrix(y_test, predict_1l_1simpleRNN.round(), ['Ia', 'nonIa'], normalize=True)"
      ]
    },
    {
      "cell_type": "code",
      "execution_count": 10,
      "metadata": {
        "colab": {
          "base_uri": "https://localhost:8080/",
          "height": 489
        },
        "id": "URJPl-UqRY-s",
        "outputId": "72b33131-4ff5-4de9-9f4f-0dd5ef12864f"
      },
      "outputs": [
        {
          "name": "stdout",
          "output_type": "stream",
          "text": [
            "AUC = 0.8974469851335365\n"
          ]
        },
        {
          "data": {
            "image/png": "[encoded data removed]",
            "text/plain": [
              "<Figure size 640x480 with 1 Axes>"
            ]
          },
          "metadata": {},
          "output_type": "display_data"
        }
      ],
      "source": [
        "plot_roc_curve(y_test, predict_1l_1simpleRNN.round(), auc_print=True)"
      ]
    },
    {
      "cell_type": "code",
      "execution_count": 11,
      "metadata": {
        "colab": {
          "base_uri": "https://localhost:8080/"
        },
        "id": "bEkpPxv8RfkD",
        "outputId": "4b223fb3-028e-4f06-bb03-dad65948fd65"
      },
      "outputs": [
        {
          "name": "stdout",
          "output_type": "stream",
          "text": [
            "accuracy:  89.75%\n"
          ]
        }
      ],
      "source": [
        "acc_1l_1simpleRNN = model_1l_1simpleRNN.evaluate(X_test, y_test, verbose=0)\n",
        "print(f'accuracy: {acc_1l_1simpleRNN[1] * 100 : 0.2f}%')"
      ]
    },
    {
      "cell_type": "markdown",
      "metadata": {
        "id": "s16vAwX_0I2z"
      },
      "source": [
        "## LSTM"
      ]
    },
    {
      "cell_type": "code",
      "execution_count": null,
      "metadata": {
        "colab": {
          "base_uri": "https://localhost:8080/"
        },
        "id": "qmzOKzG8rtWF",
        "outputId": "55ce6b48-5d9d-487f-820e-2eda5eeaf520"
      },
      "outputs": [],
      "source": [
        "model_1l_1LSTM = Sequential()\n",
        "model_1l_1LSTM.add(LSTM(1, input_shape=(seq_len, feat),\n",
        "                        return_sequences=True, dropout=0.2))\n",
        "model_1l_1LSTM.add(BatchNormalization())\n",
        "model_1l_1LSTM.add(Flatten())\n",
        "model_1l_1LSTM.add(Dense(1, activation='sigmoid'))\n",
        "\n",
        "optimizer = optimizers.Adam()\n",
        "model_1l_1LSTM.compile(loss='binary_crossentropy',\n",
        "                       optimizer=optimizer,\n",
        "                       metrics=['accuracy'])\n",
        "model_1l_1LSTM.summary()"
      ]
    },
    {
      "cell_type": "code",
      "execution_count": null,
      "metadata": {
        "colab": {
          "base_uri": "https://localhost:8080/"
        },
        "id": "hpUStVsgr_XQ",
        "outputId": "dbed7a2d-7539-43fd-9b85-807c68f941d9"
      },
      "outputs": [],
      "source": [
        "history_1l_1LSTM = model_1l_1LSTM.fit(X_train, y_train,\n",
        "                                     validation_data=(X_test, y_test),\n",
        "                                     epochs=30, batch_size=128)\n",
        "predict_1l_1LSTM = model_1l_1LSTM.predict(X_test)"
      ]
    },
    {
      "cell_type": "code",
      "execution_count": null,
      "metadata": {
        "colab": {
          "base_uri": "https://localhost:8080/",
          "height": 447
        },
        "id": "pTYzv3b1sCmw",
        "outputId": "feab525a-3550-4bcf-9de1-8db0e55b029d"
      },
      "outputs": [],
      "source": [
        "pd.DataFrame(history_1l_1LSTM.history).plot()"
      ]
    },
    {
      "cell_type": "code",
      "execution_count": null,
      "metadata": {
        "colab": {
          "base_uri": "https://localhost:8080/",
          "height": 523
        },
        "id": "C8Lhyfv0SmK-",
        "outputId": "19277294-8092-4919-b1cf-579f4f3874a2"
      },
      "outputs": [],
      "source": [
        "plot_confusion_matrix(y_test, predict_1l_1LSTM.round(), ['Ia', 'nonIa'], normalize=True)"
      ]
    },
    {
      "cell_type": "code",
      "execution_count": null,
      "metadata": {
        "colab": {
          "base_uri": "https://localhost:8080/",
          "height": 489
        },
        "id": "rgcvU7cJRz6z",
        "outputId": "e40c14db-e5ac-4403-d56b-f47a5acede78"
      },
      "outputs": [],
      "source": [
        "plot_roc_curve(y_test, predict_1l_1LSTM.round(), auc_print=True)"
      ]
    },
    {
      "cell_type": "code",
      "execution_count": null,
      "metadata": {
        "colab": {
          "base_uri": "https://localhost:8080/"
        },
        "id": "pbRUV9GKR6W9",
        "outputId": "1e9ab5c1-5cf4-47c6-a38c-b6f96e0a819b"
      },
      "outputs": [],
      "source": [
        "acc_1l_1LSTM = model_1l_1LSTM.evaluate(X_test, y_test, verbose=0)\n",
        "print(f'accuracy: {acc_1l_1LSTM[1] * 100 : 0.2f}%')"
      ]
    },
    {
      "cell_type": "markdown",
      "metadata": {
        "id": "nZe2LyDX0Vow"
      },
      "source": [
        "## GRU"
      ]
    },
    {
      "cell_type": "code",
      "execution_count": null,
      "metadata": {
        "colab": {
          "base_uri": "https://localhost:8080/"
        },
        "id": "uHMBbjmYsH-U",
        "outputId": "fb8c84ac-0ecd-4f72-e7cd-4d7f8fadadd9"
      },
      "outputs": [],
      "source": [
        "model_1l_1GRU = Sequential()\n",
        "model_1l_1GRU.add(GRU(1, input_shape=(seq_len, feat),\n",
        "                      return_sequences=True, dropout=0.2))\n",
        "model_1l_1GRU.add(BatchNormalization())\n",
        "model_1l_1GRU.add(Flatten())\n",
        "model_1l_1GRU.add(Dense(1, activation='sigmoid'))\n",
        "\n",
        "optimizer = optimizers.Adam()\n",
        "model_1l_1GRU.compile(loss='binary_crossentropy',\n",
        "                      optimizer=optimizer,\n",
        "                      metrics=['accuracy'])\n",
        "model_1l_1GRU.summary()"
      ]
    },
    {
      "cell_type": "code",
      "execution_count": null,
      "metadata": {
        "colab": {
          "base_uri": "https://localhost:8080/"
        },
        "id": "rM4mPmz8sOBp",
        "outputId": "a86c5981-fdc3-4ff7-f2c9-6a3e275fc9e8"
      },
      "outputs": [],
      "source": [
        "history_1l_1GRU = model_1l_1GRU.fit(X_train, y_train,\n",
        "                                   validation_data=(X_test, y_test),\n",
        "                                   epochs=30, batch_size=128)\n",
        "predict_1l_1GRU = model_1l_1GRU.predict(X_test)"
      ]
    },
    {
      "cell_type": "code",
      "execution_count": null,
      "metadata": {
        "colab": {
          "base_uri": "https://localhost:8080/",
          "height": 447
        },
        "id": "_sR1LLD2sRat",
        "outputId": "26f0f3ee-6431-42d1-bf1d-46d52ce4fcb1"
      },
      "outputs": [],
      "source": [
        "pd.DataFrame(history_1l_1GRU.history).plot()"
      ]
    },
    {
      "cell_type": "code",
      "execution_count": null,
      "metadata": {
        "colab": {
          "base_uri": "https://localhost:8080/",
          "height": 523
        },
        "id": "s3xtIbl_t-wU",
        "outputId": "2dbcb72d-3a89-4ea9-8fa9-417c4c8c4636"
      },
      "outputs": [],
      "source": [
        "plot_confusion_matrix(y_test, predict_1l_1GRU.round(), ['Ia', 'nonIa'], normalize=True)"
      ]
    },
    {
      "cell_type": "code",
      "execution_count": null,
      "metadata": {
        "colab": {
          "base_uri": "https://localhost:8080/",
          "height": 489
        },
        "id": "aHqTENrOLveQ",
        "outputId": "03889615-6dd8-4f00-fb48-0360731a2cca"
      },
      "outputs": [],
      "source": [
        "plot_roc_curve(y_test, predict_1l_1GRU.round(), auc_print=True)"
      ]
    },
    {
      "cell_type": "code",
      "execution_count": null,
      "metadata": {
        "colab": {
          "base_uri": "https://localhost:8080/"
        },
        "id": "MrOHqHVsMBXt",
        "outputId": "3a8859f7-060e-41d3-c925-ec99f60d8648"
      },
      "outputs": [],
      "source": [
        "acc_1l_1GRU = model_1l_1GRU.evaluate(X_test, y_test, verbose=0)\n",
        "print(f'accuracy: {acc_1l_1GRU[1] * 100 : 0.2f}%')"
      ]
    },
    {
      "cell_type": "markdown",
      "metadata": {
        "id": "EevHj6s8Uj9R"
      },
      "source": [
        "## Results\n",
        "\n",
        "- SimpleRNN: slow train\n",
        "- LSTM & GRU: accurate considering only 1 neuron\n",
        "  - LSTM:\n",
        "    - 98% Ia - 94% NonIa \n",
        "    - work better with default _lr_ ~_lr = 1e-3_~\n",
        "  - GRU:\n",
        "    - 94% Ia - 88% NonIa \n",
        "    - work better with default _lr_ ~_lr = 5e-4_~"
      ]
    },
    {
      "cell_type": "markdown",
      "metadata": {
        "id": "sMY5l08LyOE-"
      },
      "source": [
        "# Model: 1 bidirectional layer & 1 neuron\n",
        "---"
      ]
    },
    {
      "cell_type": "markdown",
      "metadata": {
        "id": "jpfER6Gs0bzu"
      },
      "source": [
        "## LSTM"
      ]
    },
    {
      "cell_type": "code",
      "execution_count": null,
      "metadata": {
        "colab": {
          "base_uri": "https://localhost:8080/"
        },
        "id": "1r1AQlfhyUa_",
        "outputId": "bd2c0667-3143-40f5-a20a-035a59d08f55"
      },
      "outputs": [],
      "source": [
        "model_1bl_1LSTM = Sequential()\n",
        "model_1bl_1LSTM.add(Bidirectional(LSTM(1, return_sequences=True, dropout=0.2),\n",
        "                                  input_shape=(seq_len, feat)))\n",
        "model_1bl_1LSTM.add(BatchNormalization())\n",
        "model_1bl_1LSTM.add(Flatten())\n",
        "model_1bl_1LSTM.add(Dense(1, activation='sigmoid'))\n",
        "\n",
        "optimizer = optimizers.Adam()\n",
        "model_1bl_1LSTM.compile(loss='binary_crossentropy',\n",
        "                       optimizer=optimizer,\n",
        "                       metrics=['accuracy'])\n",
        "model_1bl_1LSTM.summary()"
      ]
    },
    {
      "cell_type": "code",
      "execution_count": null,
      "metadata": {
        "colab": {
          "base_uri": "https://localhost:8080/"
        },
        "id": "EyRF8Zgtyvbr",
        "outputId": "b4fe51dc-d79c-4d44-f9d3-6bef647296ac"
      },
      "outputs": [],
      "source": [
        "history_1bl_1LSTM = model_1bl_1LSTM.fit(X_train, y_train,\n",
        "                                     validation_data=(X_test, y_test),\n",
        "                                     epochs=30, batch_size=128)\n",
        "predict_1bl_1LSTM = model_1bl_1LSTM.predict(X_test)"
      ]
    },
    {
      "cell_type": "code",
      "execution_count": null,
      "metadata": {
        "colab": {
          "base_uri": "https://localhost:8080/",
          "height": 447
        },
        "id": "01j_B3w9zEGs",
        "outputId": "10b15ef5-af68-49bc-abbd-c0080b2cdb1c"
      },
      "outputs": [],
      "source": [
        "pd.DataFrame(history_1bl_1LSTM.history).plot()"
      ]
    },
    {
      "cell_type": "code",
      "execution_count": null,
      "metadata": {
        "colab": {
          "base_uri": "https://localhost:8080/",
          "height": 523
        },
        "id": "wPjxnpJ5zfPi",
        "outputId": "8f64a87d-f7dc-4035-f029-863ec93a65c0"
      },
      "outputs": [],
      "source": [
        "plot_confusion_matrix(y_test, predict_1bl_1LSTM.round(), ['Ia', 'nonIa'], normalize=True)"
      ]
    },
    {
      "cell_type": "code",
      "execution_count": null,
      "metadata": {
        "id": "P_LRuqEwSHbg"
      },
      "outputs": [],
      "source": [
        "plot_roc_curve(y_test, predict_1bl_1LSTM.round(), auc_print=True)"
      ]
    },
    {
      "cell_type": "code",
      "execution_count": null,
      "metadata": {
        "id": "0u_2vtEfSKkS"
      },
      "outputs": [],
      "source": [
        "acc_1bl_1LSTM = model_1bl_1LSTM.evaluate(X_test, y_test, verbose=0)\n",
        "print(f'accuracy: {acc_1bl_1LSTM[1] * 100 : 0.2f}%')"
      ]
    },
    {
      "cell_type": "markdown",
      "metadata": {
        "id": "tWJJ3LBU0ejN"
      },
      "source": [
        "## GRU"
      ]
    },
    {
      "cell_type": "code",
      "execution_count": null,
      "metadata": {
        "colab": {
          "base_uri": "https://localhost:8080/"
        },
        "id": "ajLDqw8m0fUa",
        "outputId": "c426cc0c-c475-4dd3-f9c5-a7b6fe7008ea"
      },
      "outputs": [],
      "source": [
        "model_1bl_1GRU = Sequential()\n",
        "model_1bl_1GRU.add(Bidirectional(GRU(1, return_sequences=True, dropout=0.2),\n",
        "                                 input_shape=(seq_len, feat)))\n",
        "model_1bl_1GRU.add(BatchNormalization())\n",
        "model_1bl_1GRU.add(Flatten())\n",
        "model_1bl_1GRU.add(Dense(1, activation='sigmoid'))\n",
        "\n",
        "optimizer = optimizers.Adam()\n",
        "model_1bl_1GRU.compile(loss='binary_crossentropy',\n",
        "                      optimizer=optimizer,\n",
        "                      metrics=['accuracy'])\n",
        "model_1bl_1GRU.summary()"
      ]
    },
    {
      "cell_type": "code",
      "execution_count": null,
      "metadata": {
        "colab": {
          "base_uri": "https://localhost:8080/"
        },
        "id": "JvRoTU_o0uHi",
        "outputId": "56d268fd-6e5e-4fe6-f971-e6d5999a750c"
      },
      "outputs": [],
      "source": [
        "history_1bl_1GRU = model_1bl_1GRU.fit(X_train, y_train,\n",
        "                                      validation_data=(X_test, y_test),\n",
        "                                      epochs=30, batch_size=128)\n",
        "predict_1bl_1GRU = model_1bl_1GRU.predict(X_test)"
      ]
    },
    {
      "cell_type": "code",
      "execution_count": null,
      "metadata": {
        "id": "gZca664s0yik"
      },
      "outputs": [],
      "source": [
        "pd.DataFrame(history_1bl_1GRU.history).plot()"
      ]
    },
    {
      "cell_type": "code",
      "execution_count": null,
      "metadata": {
        "id": "aSpsR7lQ035H"
      },
      "outputs": [],
      "source": [
        "plot_confusion_matrix(y_test, predict_1bl_1GRU.round(), ['Ia', 'nonIa'], normalize=True)"
      ]
    },
    {
      "cell_type": "code",
      "execution_count": null,
      "metadata": {
        "id": "RVGJHahTSSil"
      },
      "outputs": [],
      "source": [
        "plot_roc_curve(y_test, predict_1bl_1GRU.round(), auc_print=True)"
      ]
    },
    {
      "cell_type": "code",
      "execution_count": null,
      "metadata": {
        "id": "S-TylfjOSVHA"
      },
      "outputs": [],
      "source": [
        "acc_1bl_1GRU = model_1bl_1GRU.evaluate(X_test, y_test, verbose=0)\n",
        "print(f'accuracy: {acc_1bl_1GRU[1] * 100 : 0.2f}%')"
      ]
    },
    {
      "cell_type": "markdown",
      "metadata": {
        "id": "PJ2g4qP91y-7"
      },
      "source": [
        "## Results\n",
        "\n",
        "- LSTM & GRU: accuracy improve using bidirectional layer\n",
        "\n",
        "  - LSTM: 94% Ia - 98% NonIa\n",
        "  - GRU: 98% Ia - 94% NonIa"
      ]
    },
    {
      "cell_type": "markdown",
      "metadata": {
        "id": "lfRIcYX_CPJU"
      },
      "source": [
        "# Model: 1 bidirectional layer & 4 neurons\n",
        "---"
      ]
    },
    {
      "cell_type": "markdown",
      "metadata": {
        "id": "cftcHaSVCYFl"
      },
      "source": [
        "## LSTM \n"
      ]
    },
    {
      "cell_type": "code",
      "execution_count": 6,
      "metadata": {
        "id": "otSdrJyJCWH8"
      },
      "outputs": [
        {
          "name": "stdout",
          "output_type": "stream",
          "text": [
            "Model: \"sequential\"\n",
            "_________________________________________________________________\n",
            " Layer (type)                Output Shape              Param #   \n",
            "=================================================================\n",
            " bidirectional (Bidirectiona  (None, 100, 8)           320       \n",
            " l)                                                              \n",
            "                                                                 \n",
            " batch_normalization (BatchN  (None, 100, 8)           32        \n",
            " ormalization)                                                   \n",
            "                                                                 \n",
            " flatten (Flatten)           (None, 800)               0         \n",
            "                                                                 \n",
            " dense (Dense)               (None, 1)                 801       \n",
            "                                                                 \n",
            "=================================================================\n",
            "Total params: 1,153\n",
            "Trainable params: 1,137\n",
            "Non-trainable params: 16\n",
            "_________________________________________________________________\n"
          ]
        }
      ],
      "source": [
        "model_1bl_4LSTM = Sequential()\n",
        "model_1bl_4LSTM.add(Bidirectional(LSTM(4, return_sequences=True, dropout=0.2),\n",
        "                                  input_shape=(seq_len, feat)))\n",
        "model_1bl_4LSTM.add(BatchNormalization())\n",
        "model_1bl_4LSTM.add(Flatten())\n",
        "model_1bl_4LSTM.add(Dense(1, activation='sigmoid'))\n",
        "\n",
        "optimizer = optimizers.Adam()\n",
        "model_1bl_4LSTM.compile(loss='binary_crossentropy',\n",
        "                        optimizer=optimizer,\n",
        "                        metrics=['accuracy'])\n",
        "model_1bl_4LSTM.summary()"
      ]
    },
    {
      "cell_type": "code",
      "execution_count": 7,
      "metadata": {
        "colab": {
          "base_uri": "https://localhost:8080/"
        },
        "id": "jhirr4W9Cjsn",
        "outputId": "516c19fc-327d-485b-bfb8-a44bff5f91e8"
      },
      "outputs": [
        {
          "name": "stdout",
          "output_type": "stream",
          "text": [
            "Epoch 1/30\n",
            "11931/11931 [==============================] - 318s 26ms/step - loss: 0.2356 - accuracy: 0.9144 - val_loss: 0.1917 - val_accuracy: 0.9379\n",
            "Epoch 2/30\n",
            "11931/11931 [==============================] - 285s 24ms/step - loss: 0.1875 - accuracy: 0.9353 - val_loss: 0.2177 - val_accuracy: 0.9174\n",
            "Epoch 3/30\n",
            "11931/11931 [==============================] - 287s 24ms/step - loss: 0.1687 - accuracy: 0.9416 - val_loss: 0.2322 - val_accuracy: 0.9049\n",
            "Epoch 4/30\n",
            "11931/11931 [==============================] - 269s 23ms/step - loss: 0.1582 - accuracy: 0.9445 - val_loss: 0.1474 - val_accuracy: 0.9521\n",
            "Epoch 5/30\n",
            "11931/11931 [==============================] - 287s 24ms/step - loss: 0.1518 - accuracy: 0.9468 - val_loss: 0.1552 - val_accuracy: 0.9472\n",
            "Epoch 6/30\n",
            "11931/11931 [==============================] - 310s 26ms/step - loss: 0.1498 - accuracy: 0.9473 - val_loss: 0.1673 - val_accuracy: 0.9407\n",
            "Epoch 7/30\n",
            "11931/11931 [==============================] - 311s 26ms/step - loss: 0.1474 - accuracy: 0.9484 - val_loss: 0.1517 - val_accuracy: 0.9476\n",
            "Epoch 8/30\n",
            "11931/11931 [==============================] - 312s 26ms/step - loss: 0.1455 - accuracy: 0.9490 - val_loss: 0.1734 - val_accuracy: 0.9357\n",
            "Epoch 9/30\n",
            "11931/11931 [==============================] - 312s 26ms/step - loss: 0.1449 - accuracy: 0.9492 - val_loss: 0.1404 - val_accuracy: 0.9520\n",
            "Epoch 10/30\n",
            "11931/11931 [==============================] - 315s 26ms/step - loss: 0.1425 - accuracy: 0.9498 - val_loss: 0.1430 - val_accuracy: 0.9516\n",
            "Epoch 11/30\n",
            "11931/11931 [==============================] - 317s 27ms/step - loss: 0.1418 - accuracy: 0.9503 - val_loss: 0.1255 - val_accuracy: 0.9583\n",
            "Epoch 12/30\n",
            "11931/11931 [==============================] - 321s 27ms/step - loss: 0.1407 - accuracy: 0.9507 - val_loss: 0.1309 - val_accuracy: 0.9560\n",
            "Epoch 13/30\n",
            "11931/11931 [==============================] - 321s 27ms/step - loss: 0.1396 - accuracy: 0.9511 - val_loss: 0.1295 - val_accuracy: 0.9571\n",
            "Epoch 14/30\n",
            "11931/11931 [==============================] - 331s 28ms/step - loss: 0.1391 - accuracy: 0.9514 - val_loss: 0.1219 - val_accuracy: 0.9583\n",
            "Epoch 15/30\n",
            "11931/11931 [==============================] - 328s 28ms/step - loss: 0.1385 - accuracy: 0.9513 - val_loss: 0.1233 - val_accuracy: 0.9587\n",
            "Epoch 16/30\n",
            "11931/11931 [==============================] - 329s 28ms/step - loss: 0.1377 - accuracy: 0.9519 - val_loss: 0.1588 - val_accuracy: 0.9447\n",
            "Epoch 17/30\n",
            "11931/11931 [==============================] - 335s 28ms/step - loss: 0.1375 - accuracy: 0.9518 - val_loss: 0.1253 - val_accuracy: 0.9594\n",
            "Epoch 18/30\n",
            "11931/11931 [==============================] - 337s 28ms/step - loss: 0.1366 - accuracy: 0.9523 - val_loss: 0.1259 - val_accuracy: 0.9582\n",
            "Epoch 19/30\n",
            "11931/11931 [==============================] - 339s 28ms/step - loss: 0.1364 - accuracy: 0.9524 - val_loss: 0.1396 - val_accuracy: 0.9515\n",
            "Epoch 20/30\n",
            "11931/11931 [==============================] - 343s 29ms/step - loss: 0.1363 - accuracy: 0.9523 - val_loss: 0.1193 - val_accuracy: 0.9584\n",
            "Epoch 21/30\n",
            "11931/11931 [==============================] - 348s 29ms/step - loss: 0.1355 - accuracy: 0.9528 - val_loss: 0.1374 - val_accuracy: 0.9510\n",
            "Epoch 22/30\n",
            "11931/11931 [==============================] - 351s 29ms/step - loss: 0.1351 - accuracy: 0.9529 - val_loss: 0.1308 - val_accuracy: 0.9550\n",
            "Epoch 23/30\n",
            "11931/11931 [==============================] - 355s 30ms/step - loss: 0.1348 - accuracy: 0.9529 - val_loss: 0.1290 - val_accuracy: 0.9570\n",
            "Epoch 24/30\n",
            "11931/11931 [==============================] - 357s 30ms/step - loss: 0.1343 - accuracy: 0.9533 - val_loss: 0.1622 - val_accuracy: 0.9410\n",
            "Epoch 25/30\n",
            "11931/11931 [==============================] - 360s 30ms/step - loss: 0.1338 - accuracy: 0.9534 - val_loss: 0.1402 - val_accuracy: 0.9524\n",
            "Epoch 26/30\n",
            "11931/11931 [==============================] - 353s 30ms/step - loss: 0.1335 - accuracy: 0.9535 - val_loss: 0.1375 - val_accuracy: 0.9538\n",
            "Epoch 27/30\n",
            "11931/11931 [==============================] - 297s 25ms/step - loss: 0.1328 - accuracy: 0.9538 - val_loss: 0.1572 - val_accuracy: 0.9443\n",
            "Epoch 28/30\n",
            "11931/11931 [==============================] - 305s 26ms/step - loss: 0.1329 - accuracy: 0.9537 - val_loss: 0.1231 - val_accuracy: 0.9582\n",
            "Epoch 29/30\n",
            "11931/11931 [==============================] - 309s 26ms/step - loss: 0.1319 - accuracy: 0.9541 - val_loss: 0.1359 - val_accuracy: 0.9530\n",
            "Epoch 30/30\n",
            "11931/11931 [==============================] - 317s 27ms/step - loss: 0.1319 - accuracy: 0.9541 - val_loss: 0.1180 - val_accuracy: 0.9601\n",
            "20452/20452 [==============================] - 77s 4ms/step\n"
          ]
        }
      ],
      "source": [
        "history_1bl_4LSTM = model_1bl_4LSTM.fit(X_train, y_train,\n",
        "                                     validation_data=(X_test, y_test),\n",
        "                                     epochs=30, batch_size=128)\n",
        "predict_1bl_4LSTM = model_1bl_4LSTM.predict(X_test)"
      ]
    },
    {
      "cell_type": "code",
      "execution_count": 8,
      "metadata": {
        "id": "_sA6Aa2VCmWY"
      },
      "outputs": [
        {
          "data": {
            "text/plain": [
              "<AxesSubplot:>"
            ]
          },
          "execution_count": 8,
          "metadata": {},
          "output_type": "execute_result"
        },
        {
          "data": {
            "image/png": "[encoded data removed]",
            "text/plain": [
              "<Figure size 640x480 with 1 Axes>"
            ]
          },
          "metadata": {},
          "output_type": "display_data"
        }
      ],
      "source": [
        "pd.DataFrame(history_1bl_4LSTM.history).plot()"
      ]
    },
    {
      "cell_type": "code",
      "execution_count": 13,
      "metadata": {
        "id": "A7UECMteCo2X"
      },
      "outputs": [
        {
          "name": "stdout",
          "output_type": "stream",
          "text": [
            "Normalized confusion matrix\n"
          ]
        },
        {
          "data": {
            "image/png": "[encoded data removed]",
            "text/plain": [
              "<Figure size 640x480 with 2 Axes>"
            ]
          },
          "metadata": {},
          "output_type": "display_data"
        }
      ],
      "source": [
        "plot_confusion_matrix(y_test, predict_1bl_4LSTM.round(), ['Ia', 'nonIa'], normalize=True)"
      ]
    },
    {
      "cell_type": "code",
      "execution_count": 10,
      "metadata": {
        "id": "EDS7HXMcSm0e"
      },
      "outputs": [
        {
          "name": "stdout",
          "output_type": "stream",
          "text": [
            "AUC = 0.9600995688354205\n"
          ]
        },
        {
          "data": {
            "image/png": "[encoded data removed]",
            "text/plain": [
              "<Figure size 640x480 with 1 Axes>"
            ]
          },
          "metadata": {},
          "output_type": "display_data"
        }
      ],
      "source": [
        "plot_roc_curve(y_test, predict_1bl_4LSTM.round(), auc_print=True)"
      ]
    },
    {
      "cell_type": "code",
      "execution_count": 1,
      "metadata": {
        "id": "c9mpK3NdSqdI"
      },
      "outputs": [
        {
          "name": "stdout",
          "output_type": "stream",
          "text": [
            "accuracy:  96.01%\n"
          ]
        }
      ],
      "source": [
        "acc_1bl_4LSTM = model_1bl_4LSTM.evaluate(X_test, y_test, verbose=0)\n",
        "print(f'accuracy: {acc_1bl_4LSTM[1] * 100 : 0.2f}%')"
      ]
    },
    {
      "cell_type": "code",
      "execution_count": 14,
      "metadata": {},
      "outputs": [],
      "source": [
        "model_1bl_4LSTM.save(\"./data_folder/model_1bl_4LSTM.keras\")"
      ]
    },
    {
      "cell_type": "markdown",
      "metadata": {
        "id": "5HPrASXXCtNL"
      },
      "source": [
        "## GRU"
      ]
    },
    {
      "cell_type": "code",
      "execution_count": null,
      "metadata": {
        "id": "uQOJkYfwCuKT"
      },
      "outputs": [],
      "source": [
        "model_1bl_4GRU = Sequential()\n",
        "model_1bl_4GRU.add(Bidirectional(GRU(4, return_sequences=True, dropout=0.2),\n",
        "                                 input_shape=(seq_len, feat)))\n",
        "model_1bl_4GRU.add(BatchNormalization())\n",
        "model_1bl_4GRU.add(Flatten())\n",
        "model_1bl_4GRU.add(Dense(1, activation='sigmoid'))\n",
        "\n",
        "optimizer = optimizers.Adam()\n",
        "model_1bl_4GRU.compile(loss='binary_crossentropy',\n",
        "                      optimizer=optimizer,\n",
        "                      metrics=['accuracy'])\n",
        "model_1bl_4GRU.summary()"
      ]
    },
    {
      "cell_type": "code",
      "execution_count": null,
      "metadata": {
        "id": "1fDMVMxoC3Fp"
      },
      "outputs": [],
      "source": [
        "history_1bl_4GRU = model_1bl_4GRU.fit(X_train, y_train,\n",
        "                                      validation_data=(X_test, y_test),\n",
        "                                      epochs=30, batch_size=128)\n",
        "predict_1bl_4GRU = model_1bl_4GRU.predict(X_test)"
      ]
    },
    {
      "cell_type": "code",
      "execution_count": null,
      "metadata": {
        "id": "zxmLmPzhC9zq"
      },
      "outputs": [],
      "source": [
        "pd.DataFrame(history_1bl_4GRU.history).plot()"
      ]
    },
    {
      "cell_type": "code",
      "execution_count": null,
      "metadata": {
        "colab": {
          "base_uri": "https://localhost:8080/",
          "height": 523
        },
        "id": "CnQY0ewDC-Qy",
        "outputId": "296ad1c4-b91f-434c-eec8-797115e0367c"
      },
      "outputs": [],
      "source": [
        "plot_confusion_matrix(y_test, predict_1bl_4GRU.round(), ['Ia', 'nonIa'], normalize=True)"
      ]
    },
    {
      "cell_type": "code",
      "execution_count": null,
      "metadata": {
        "id": "B4h2i0mWSwAA"
      },
      "outputs": [],
      "source": [
        "plot_roc_curve(y_test, predict_1bl_4GRU.round(), auc_print=True)"
      ]
    },
    {
      "cell_type": "code",
      "execution_count": null,
      "metadata": {
        "id": "j7bMSXN4SyJ2"
      },
      "outputs": [],
      "source": [
        "acc_1bl_4GRU = model_1bl_4GRU.evaluate(X_test, y_test, verbose=0)\n",
        "print(f'accuracy: {acc_1bl_4GRU[1] * 100 : 0.2f}%')"
      ]
    },
    {
      "cell_type": "markdown",
      "metadata": {
        "id": "ulQaHL4lUsfC"
      },
      "source": [
        "# Model: 1 bidirectional layer & 64 neurons\n",
        "---"
      ]
    },
    {
      "cell_type": "markdown",
      "metadata": {
        "id": "MnX4OLUDU4jF"
      },
      "source": [
        "## LSTM"
      ]
    },
    {
      "cell_type": "code",
      "execution_count": null,
      "metadata": {
        "colab": {
          "base_uri": "https://localhost:8080/"
        },
        "id": "LYeQR940VLbI",
        "outputId": "3a976d7e-0546-4116-a2bd-1696a09a2637"
      },
      "outputs": [],
      "source": [
        "model_1bl_64LSTM = Sequential()\n",
        "model_1bl_64LSTM.add(Bidirectional(LSTM(64, return_sequences=True, dropout=0.2),\n",
        "                                   input_shape=(seq_len, feat)))\n",
        "model_1bl_64LSTM.add(BatchNormalization())\n",
        "model_1bl_64LSTM.add(Flatten())\n",
        "model_1bl_64LSTM.add(Dense(1, activation='sigmoid'))\n",
        "\n",
        "optimizer = optimizers.Adam()\n",
        "model_1bl_64LSTM.compile(loss='binary_crossentropy',\n",
        "                         optimizer=optimizer,\n",
        "                         metrics=['accuracy'])\n",
        "model_1bl_64LSTM.summary()"
      ]
    },
    {
      "cell_type": "code",
      "execution_count": null,
      "metadata": {
        "colab": {
          "base_uri": "https://localhost:8080/"
        },
        "id": "ykwy3dyoVLbI",
        "outputId": "786d1bdb-8ff4-4c0c-f5e7-ac93bc8931d5"
      },
      "outputs": [],
      "source": [
        "history_1bl_64LSTM = model_1bl_64LSTM.fit(X_train, y_train,\n",
        "                                          validation_data=(X_test, y_test),\n",
        "                                          epochs=30, batch_size=128)\n",
        "predict_1bl_64LSTM = model_1bl_64LSTM.predict(X_test)"
      ]
    },
    {
      "cell_type": "code",
      "execution_count": null,
      "metadata": {
        "colab": {
          "base_uri": "https://localhost:8080/"
        },
        "id": "ivw1n2InVLbI",
        "outputId": "16baf16c-2cc2-468f-dfcc-53140801822b"
      },
      "outputs": [],
      "source": [
        "pd.DataFrame(history_1bl_64LSTM.history).plot()"
      ]
    },
    {
      "cell_type": "code",
      "execution_count": null,
      "metadata": {
        "colab": {
          "base_uri": "https://localhost:8080/"
        },
        "id": "QhvfEqViVLbI",
        "outputId": "5bc75c41-1916-4d02-b52e-1b34861fe2bf"
      },
      "outputs": [],
      "source": [
        "plot_confusion_matrix(y_test, predict_1bl_64LSTM.round(), ['Ia', 'nonIa'], normalize=True)"
      ]
    },
    {
      "cell_type": "code",
      "execution_count": null,
      "metadata": {
        "colab": {
          "base_uri": "https://localhost:8080/"
        },
        "id": "wrKa3W3oVLbI",
        "outputId": "6ca9e2e0-3e59-4826-f365-6b5f3904ceaa"
      },
      "outputs": [],
      "source": [
        "plot_roc_curve(y_test, predict_1bl_64LSTM.round(), auc_print=True)"
      ]
    },
    {
      "cell_type": "code",
      "execution_count": null,
      "metadata": {
        "colab": {
          "base_uri": "https://localhost:8080/"
        },
        "id": "xY-LTTiXVLbI",
        "outputId": "9ff90fb3-8235-4e29-fbe9-4d6915da1061"
      },
      "outputs": [],
      "source": [
        "acc_1bl_64LSTM = model_1bl_64LSTM.evaluate(X_test, y_test, verbose=0)\n",
        "print(f'accuracy: {acc_1bl_64LSTM[1] * 100 : 0.2f}%')"
      ]
    },
    {
      "cell_type": "markdown",
      "metadata": {
        "id": "sEZAr-07VLbJ"
      },
      "source": [
        "## GRU"
      ]
    },
    {
      "cell_type": "code",
      "execution_count": null,
      "metadata": {
        "colab": {
          "base_uri": "https://localhost:8080/"
        },
        "id": "3PBBDea6VLbJ",
        "outputId": "969b86ed-1239-451f-ad80-c39ead0534cf"
      },
      "outputs": [],
      "source": [
        "model_1bl_64GRU = Sequential()\n",
        "model_1bl_64GRU.add(Bidirectional(GRU(64, return_sequences=True, dropout=0.2),\n",
        "                                  input_shape=(seq_len, feat)))\n",
        "model_1bl_64GRU.add(BatchNormalization())\n",
        "model_1bl_64GRU.add(Flatten())\n",
        "model_1bl_64GRU.add(Dense(1, activation='sigmoid'))\n",
        "\n",
        "optimizer = optimizers.Adam()\n",
        "model_1bl_64GRU.compile(loss='binary_crossentropy',\n",
        "                        optimizer=optimizer,\n",
        "                        metrics=['accuracy'])\n",
        "model_1bl_64GRU.summary()"
      ]
    },
    {
      "cell_type": "code",
      "execution_count": null,
      "metadata": {
        "colab": {
          "base_uri": "https://localhost:8080/"
        },
        "id": "4x8VxowuVLbJ",
        "outputId": "8b7bf945-d119-497f-d3ad-b147b9f4605a"
      },
      "outputs": [],
      "source": [
        "history_1bl_64GRU = model_1bl_64GRU.fit(X_train, y_train,\n",
        "                                        validation_data=(X_test, y_test),\n",
        "                                        epochs=30, batch_size=128)\n",
        "predict_1bl_64GRU = model_1bl_64GRU.predict(X_test)"
      ]
    },
    {
      "cell_type": "code",
      "execution_count": null,
      "metadata": {
        "colab": {
          "base_uri": "https://localhost:8080/"
        },
        "id": "BSXf1uBNVLbJ",
        "outputId": "86a2ded0-b457-4f1b-a4dc-97e3f8eefa42"
      },
      "outputs": [],
      "source": [
        "pd.DataFrame(history_1bl_64GRU.history).plot()"
      ]
    },
    {
      "cell_type": "code",
      "execution_count": null,
      "metadata": {
        "colab": {
          "base_uri": "https://localhost:8080/"
        },
        "id": "tIEDcKjJVLbJ",
        "outputId": "a7707acf-fd9a-4899-c138-ba8118a27863"
      },
      "outputs": [],
      "source": [
        "plot_confusion_matrix(y_test, predict_1bl_64GRU.round(), ['Ia', 'nonIa'], normalize=True)"
      ]
    },
    {
      "cell_type": "code",
      "execution_count": null,
      "metadata": {
        "colab": {
          "base_uri": "https://localhost:8080/"
        },
        "id": "lgwOzkRkVLbJ",
        "outputId": "d5fe4e7f-ee08-459f-d6c9-985fca423ce8"
      },
      "outputs": [],
      "source": [
        "plot_roc_curve(y_test, predict_1bl_64GRU.round(), auc_print=True)"
      ]
    },
    {
      "cell_type": "code",
      "execution_count": null,
      "metadata": {
        "colab": {
          "base_uri": "https://localhost:8080/"
        },
        "id": "3hZifI13VLbJ",
        "outputId": "5d20b36b-ea2e-4d20-f2b8-a7ed25451d88"
      },
      "outputs": [],
      "source": [
        "acc_1bl_64GRU = model_1bl_64GRU.evaluate(X_test, y_test, verbose=0)\n",
        "print(f'accuracy: {acc_1bl_64GRU[1] * 100 : 0.2f}%')"
      ]
    },
    {
      "cell_type": "markdown",
      "metadata": {
        "id": "hR4Bjh_7Er5t"
      },
      "source": [
        "# Model: 2 bidirectional layer & 4 neurons\n",
        "---\n",
        "- 2 per layer"
      ]
    },
    {
      "cell_type": "markdown",
      "metadata": {
        "id": "PotGbVXyE1_l"
      },
      "source": [
        "## LSTM"
      ]
    },
    {
      "cell_type": "code",
      "execution_count": null,
      "metadata": {
        "id": "G5p4bAYTEy8P"
      },
      "outputs": [],
      "source": [
        "model_2bl_4LSTM = Sequential()\n",
        "model_2bl_4LSTM.add(Bidirectional(LSTM(2, return_sequences=True, dropout=0.2),\n",
        "                                  input_shape=(seq_len, feat)))\n",
        "model_2bl_4LSTM.add(BatchNormalization())\n",
        "\n",
        "model_2bl_4LSTM.add(Bidirectional(LSTM(2, return_sequences=True, dropout=0.2),\n",
        "                                  input_shape=(seq_len, feat)))\n",
        "model_2bl_4LSTM.add(Flatten())\n",
        "model_2bl_4LSTM.add(Dense(1, activation='sigmoid'))\n",
        "\n",
        "optimizer = optimizers.Adam()\n",
        "model_2bl_4LSTM.compile(loss='binary_crossentropy',\n",
        "                       optimizer=optimizer,\n",
        "                       metrics=['accuracy'])\n",
        "model_2bl_4LSTM.summary()"
      ]
    },
    {
      "cell_type": "code",
      "execution_count": null,
      "metadata": {
        "colab": {
          "base_uri": "https://localhost:8080/"
        },
        "id": "g4OqsYcGFQe7",
        "outputId": "e1050284-b1a9-4028-c412-5e864ebaaa28"
      },
      "outputs": [],
      "source": [
        "history_2bl_4LSTM = model_2bl_4LSTM.fit(X_train, y_train,\n",
        "                                      validation_data=(X_test, y_test),\n",
        "                                      epochs=30, batch_size=128)\n",
        "predict_2bl_4LSTM = model_2bl_4LSTM.predict(X_test)"
      ]
    },
    {
      "cell_type": "code",
      "execution_count": null,
      "metadata": {
        "colab": {
          "base_uri": "https://localhost:8080/",
          "height": 447
        },
        "id": "gps_nf_BFT15",
        "outputId": "ac123838-2531-4c2d-e759-0a3235312028"
      },
      "outputs": [],
      "source": [
        "pd.DataFrame(history_2bl_4LSTM.history).plot()"
      ]
    },
    {
      "cell_type": "code",
      "execution_count": null,
      "metadata": {
        "colab": {
          "base_uri": "https://localhost:8080/",
          "height": 523
        },
        "id": "mhE0DTUbFdnq",
        "outputId": "841c2098-9018-4757-8968-d3d2508cd266"
      },
      "outputs": [],
      "source": [
        "plot_confusion_matrix(y_test, predict_2bl_4LSTM.round(), ['Ia', 'nonIa'], normalize=True)"
      ]
    },
    {
      "cell_type": "code",
      "execution_count": null,
      "metadata": {
        "id": "JzHw3JssS6Vo"
      },
      "outputs": [],
      "source": [
        "plot_roc_curve(y_test, predict_2bl_4LSTM.round(), auc_print=True)"
      ]
    },
    {
      "cell_type": "code",
      "execution_count": null,
      "metadata": {
        "id": "V4ttYTUjS98I"
      },
      "outputs": [],
      "source": [
        "acc_2bl_4LSTM = model_2bl_4LSTM.evaluate(X_test, y_test, verbose=0)\n",
        "print(f'accuracy: {acc_2bll_4LSTM[1] * 100 : 0.2f}%')"
      ]
    },
    {
      "cell_type": "markdown",
      "metadata": {
        "id": "50j-TF-W1RKW"
      },
      "source": [
        "## GRU"
      ]
    },
    {
      "cell_type": "code",
      "execution_count": null,
      "metadata": {
        "colab": {
          "base_uri": "https://localhost:8080/"
        },
        "id": "3I1LFwuR1SJi",
        "outputId": "078cd58e-5df9-4db8-c8af-efa65ae6ffcd"
      },
      "outputs": [],
      "source": [
        "model_2bl_4GRU= Sequential()\n",
        "model_2bl_4GRU.add(Bidirectional(GRU(2, return_sequences=True, dropout=0.2),\n",
        "                                 input_shape=(seq_len, feat)))\n",
        "model_2bl_4GRU.add(BatchNormalization())\n",
        "\n",
        "model_2bl_4GRU.add(Bidirectional(GRU(2, return_sequences=True, dropout=0.2),\n",
        "                                 input_shape=(seq_len, feat)))\n",
        "model_2bl_4GRU.add(Flatten())\n",
        "model_2bl_4GRU.add(Dense(1, activation='sigmoid'))\n",
        "\n",
        "optimizer = optimizers.Adam()\n",
        "model_2bl_4GRU.compile(loss='binary_crossentropy',\n",
        "                       optimizer=optimizer,\n",
        "                       metrics=['accuracy'])\n",
        "model_2bl_4GRU.summary()"
      ]
    },
    {
      "cell_type": "code",
      "execution_count": null,
      "metadata": {
        "colab": {
          "base_uri": "https://localhost:8080/"
        },
        "id": "Ep83MfJ12HI0",
        "outputId": "9295f104-14d9-43f1-8a27-256e378c7c0d"
      },
      "outputs": [],
      "source": [
        "history_2bl_4GRU= model_2bl_4GRU.fit(X_train, y_train,\n",
        "                                     validation_data=(X_test, y_test),\n",
        "                                     epochs=30, batch_size=128)\n",
        "predict_2bl_4GRU = model_2bl_4GRU.predict(X_test)"
      ]
    },
    {
      "cell_type": "code",
      "execution_count": null,
      "metadata": {
        "colab": {
          "base_uri": "https://localhost:8080/",
          "height": 450
        },
        "id": "Q17KDvQI2OZ9",
        "outputId": "4901c494-3e73-4a87-ccf5-6d49300fab2b"
      },
      "outputs": [],
      "source": [
        "pd.DataFrame(history_2bl_4GRU.history).plot()"
      ]
    },
    {
      "cell_type": "code",
      "execution_count": null,
      "metadata": {
        "colab": {
          "base_uri": "https://localhost:8080/",
          "height": 523
        },
        "id": "KBA2ZES52QI4",
        "outputId": "372bb5f8-36a0-418f-a948-5adec54ee9bb"
      },
      "outputs": [],
      "source": [
        "plot_confusion_matrix(y_test, predict_2bl_4GRU.round(), ['Ia', 'nonIa'], normalize=True)"
      ]
    },
    {
      "cell_type": "code",
      "execution_count": null,
      "metadata": {
        "id": "tfcs-hWFEmVs"
      },
      "outputs": [],
      "source": [
        "plot_roc_curve(y_test, predict_2bl_4GRU.round(), auc_print=True)"
      ]
    },
    {
      "cell_type": "code",
      "execution_count": null,
      "metadata": {
        "id": "780fuRzYTODU"
      },
      "outputs": [],
      "source": [
        "acc_2bl_4GRU = model_2bl_4GRU.evaluate(X_test, y_test, verbose=0)\n",
        "print(f'accuracy: {acc_2bl_4GRU[1] * 100 : 0.2f}%')"
      ]
    }
  ],
  "metadata": {
    "accelerator": "GPU",
    "colab": {
      "collapsed_sections": [
        "M6G7s0tLKKFk",
        "nZe2LyDX0Vow",
        "sMY5l08LyOE-",
        "lfRIcYX_CPJU",
        "cftcHaSVCYFl",
        "5HPrASXXCtNL",
        "ulQaHL4lUsfC",
        "hR4Bjh_7Er5t"
      ],
      "gpuType": "T4",
      "provenance": []
    },
    "kernelspec": {
      "display_name": "Python 3",
      "name": "python3"
    },
    "language_info": {
      "codemirror_mode": {
        "name": "ipython",
        "version": 3
      },
      "file_extension": ".py",
      "mimetype": "text/x-python",
      "name": "python",
      "nbconvert_exporter": "python",
      "pygments_lexer": "ipython3",
      "version": "3.9.13"
    }
  },
  "nbformat": 4,
  "nbformat_minor": 0
}
