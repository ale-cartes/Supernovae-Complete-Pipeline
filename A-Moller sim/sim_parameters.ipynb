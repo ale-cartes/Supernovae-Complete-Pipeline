{
 "cells": [
  {
   "cell_type": "code",
   "execution_count": 1,
   "metadata": {},
   "outputs": [],
   "source": [
    "import numpy as np\n",
    "import pandas as pd\n",
    "import matplotlib.pyplot as plt"
   ]
  },
  {
   "cell_type": "code",
   "execution_count": 2,
   "metadata": {},
   "outputs": [],
   "source": [
    "def table_reader(file_name):\n",
    "    data = pd.read_csv(file_name, delimiter=' ', header=10)\n",
    "    data.drop(data.columns[[0]], axis=1, inplace=True)\n",
    "\n",
    "    return data"
   ]
  },
  {
   "cell_type": "code",
   "execution_count": 3,
   "metadata": {},
   "outputs": [
    {
     "data": {
      "text/html": [
       "<div>\n",
       "<style scoped>\n",
       "    .dataframe tbody tr th:only-of-type {\n",
       "        vertical-align: middle;\n",
       "    }\n",
       "\n",
       "    .dataframe tbody tr th {\n",
       "        vertical-align: top;\n",
       "    }\n",
       "\n",
       "    .dataframe thead th {\n",
       "        text-align: right;\n",
       "    }\n",
       "</style>\n",
       "<table border=\"1\" class=\"dataframe\">\n",
       "  <thead>\n",
       "    <tr style=\"text-align: right;\">\n",
       "      <th></th>\n",
       "      <th>CID</th>\n",
       "      <th>CIDint</th>\n",
       "      <th>IDSURVEY</th>\n",
       "      <th>TYPE</th>\n",
       "      <th>FIELD</th>\n",
       "      <th>CUTFLAG_SNANA</th>\n",
       "      <th>zHEL</th>\n",
       "      <th>zHELERR</th>\n",
       "      <th>zCMB</th>\n",
       "      <th>zCMBERR</th>\n",
       "      <th>...</th>\n",
       "      <th>m0obs_r</th>\n",
       "      <th>m0obs_i</th>\n",
       "      <th>m0obs_g</th>\n",
       "      <th>m0obs_z</th>\n",
       "      <th>em0obs_i</th>\n",
       "      <th>em0obs_r</th>\n",
       "      <th>em0obs_g</th>\n",
       "      <th>em0obs_z</th>\n",
       "      <th>z</th>\n",
       "      <th>Unnamed: 60</th>\n",
       "    </tr>\n",
       "  </thead>\n",
       "  <tbody>\n",
       "    <tr>\n",
       "      <th>0</th>\n",
       "      <td>1186139</td>\n",
       "      <td>1186139</td>\n",
       "      <td>10</td>\n",
       "      <td>101</td>\n",
       "      <td>X2</td>\n",
       "      <td>1</td>\n",
       "      <td>0.44326</td>\n",
       "      <td>0.0005</td>\n",
       "      <td>0.44211</td>\n",
       "      <td>0.0005</td>\n",
       "      <td>...</td>\n",
       "      <td>22.2633</td>\n",
       "      <td>22.2680</td>\n",
       "      <td>23.3940</td>\n",
       "      <td>22.3867</td>\n",
       "      <td>0.026228</td>\n",
       "      <td>0.033131</td>\n",
       "      <td>0.075211</td>\n",
       "      <td>0.037586</td>\n",
       "      <td>0.44326</td>\n",
       "      <td>NaN</td>\n",
       "    </tr>\n",
       "    <tr>\n",
       "      <th>1</th>\n",
       "      <td>29515665</td>\n",
       "      <td>29515665</td>\n",
       "      <td>10</td>\n",
       "      <td>101</td>\n",
       "      <td>C2</td>\n",
       "      <td>1</td>\n",
       "      <td>0.52269</td>\n",
       "      <td>0.0005</td>\n",
       "      <td>0.52213</td>\n",
       "      <td>0.0005</td>\n",
       "      <td>...</td>\n",
       "      <td>22.5660</td>\n",
       "      <td>22.6829</td>\n",
       "      <td>23.7492</td>\n",
       "      <td>22.6676</td>\n",
       "      <td>0.035247</td>\n",
       "      <td>0.046204</td>\n",
       "      <td>0.106400</td>\n",
       "      <td>0.047141</td>\n",
       "      <td>0.52269</td>\n",
       "      <td>NaN</td>\n",
       "    </tr>\n",
       "    <tr>\n",
       "      <th>2</th>\n",
       "      <td>32259709</td>\n",
       "      <td>32259709</td>\n",
       "      <td>10</td>\n",
       "      <td>101</td>\n",
       "      <td>X3</td>\n",
       "      <td>1</td>\n",
       "      <td>0.27415</td>\n",
       "      <td>0.0005</td>\n",
       "      <td>0.27313</td>\n",
       "      <td>0.0005</td>\n",
       "      <td>...</td>\n",
       "      <td>21.6710</td>\n",
       "      <td>21.7517</td>\n",
       "      <td>21.8663</td>\n",
       "      <td>0.0000</td>\n",
       "      <td>0.041018</td>\n",
       "      <td>0.034222</td>\n",
       "      <td>0.066053</td>\n",
       "      <td>0.000000</td>\n",
       "      <td>0.27415</td>\n",
       "      <td>NaN</td>\n",
       "    </tr>\n",
       "    <tr>\n",
       "      <th>3</th>\n",
       "      <td>25558110</td>\n",
       "      <td>25558110</td>\n",
       "      <td>10</td>\n",
       "      <td>101</td>\n",
       "      <td>X3</td>\n",
       "      <td>1</td>\n",
       "      <td>1.17297</td>\n",
       "      <td>0.0005</td>\n",
       "      <td>1.17124</td>\n",
       "      <td>0.0005</td>\n",
       "      <td>...</td>\n",
       "      <td>26.6622</td>\n",
       "      <td>25.0045</td>\n",
       "      <td>0.0000</td>\n",
       "      <td>24.2447</td>\n",
       "      <td>0.096627</td>\n",
       "      <td>0.253400</td>\n",
       "      <td>0.000000</td>\n",
       "      <td>0.084675</td>\n",
       "      <td>1.17297</td>\n",
       "      <td>NaN</td>\n",
       "    </tr>\n",
       "    <tr>\n",
       "      <th>4</th>\n",
       "      <td>4111967</td>\n",
       "      <td>4111967</td>\n",
       "      <td>10</td>\n",
       "      <td>101</td>\n",
       "      <td>S2</td>\n",
       "      <td>1</td>\n",
       "      <td>0.49967</td>\n",
       "      <td>0.0005</td>\n",
       "      <td>0.49855</td>\n",
       "      <td>0.0005</td>\n",
       "      <td>...</td>\n",
       "      <td>22.6461</td>\n",
       "      <td>22.7541</td>\n",
       "      <td>23.9062</td>\n",
       "      <td>22.7385</td>\n",
       "      <td>0.037261</td>\n",
       "      <td>0.049172</td>\n",
       "      <td>0.113400</td>\n",
       "      <td>0.051160</td>\n",
       "      <td>0.49967</td>\n",
       "      <td>NaN</td>\n",
       "    </tr>\n",
       "  </tbody>\n",
       "</table>\n",
       "<p>5 rows × 60 columns</p>\n",
       "</div>"
      ],
      "text/plain": [
       "        CID    CIDint  IDSURVEY  TYPE FIELD  CUTFLAG_SNANA     zHEL  zHELERR  \\\n",
       "0   1186139   1186139        10   101    X2              1  0.44326   0.0005   \n",
       "1  29515665  29515665        10   101    C2              1  0.52269   0.0005   \n",
       "2  32259709  32259709        10   101    X3              1  0.27415   0.0005   \n",
       "3  25558110  25558110        10   101    X3              1  1.17297   0.0005   \n",
       "4   4111967   4111967        10   101    S2              1  0.49967   0.0005   \n",
       "\n",
       "      zCMB  zCMBERR  ...  m0obs_r  m0obs_i  m0obs_g  m0obs_z  em0obs_i  \\\n",
       "0  0.44211   0.0005  ...  22.2633  22.2680  23.3940  22.3867  0.026228   \n",
       "1  0.52213   0.0005  ...  22.5660  22.6829  23.7492  22.6676  0.035247   \n",
       "2  0.27313   0.0005  ...  21.6710  21.7517  21.8663   0.0000  0.041018   \n",
       "3  1.17124   0.0005  ...  26.6622  25.0045   0.0000  24.2447  0.096627   \n",
       "4  0.49855   0.0005  ...  22.6461  22.7541  23.9062  22.7385  0.037261   \n",
       "\n",
       "   em0obs_r  em0obs_g  em0obs_z        z  Unnamed: 60  \n",
       "0  0.033131  0.075211  0.037586  0.44326          NaN  \n",
       "1  0.046204  0.106400  0.047141  0.52269          NaN  \n",
       "2  0.034222  0.066053  0.000000  0.27415          NaN  \n",
       "3  0.253400  0.000000  0.084675  1.17297          NaN  \n",
       "4  0.049172  0.113400  0.051160  0.49967          NaN  \n",
       "\n",
       "[5 rows x 60 columns]"
      ]
     },
     "execution_count": 3,
     "metadata": {},
     "output_type": "execute_result"
    }
   ],
   "source": [
    "sim_file = \"FITOPT000.FITRES\"\n",
    "\n",
    "sim_info = table_reader(sim_file)\n",
    "\n",
    "sim_info.head()"
   ]
  },
  {
   "cell_type": "code",
   "execution_count": 4,
   "metadata": {},
   "outputs": [
    {
     "data": {
      "text/plain": [
       "array(['CID', 'CIDint', 'IDSURVEY', 'TYPE', 'FIELD', 'CUTFLAG_SNANA',\n",
       "       'zHEL', 'zHELERR', 'zCMB', 'zCMBERR', 'zHD', 'zHDERR', 'VPEC',\n",
       "       'VPECERR', 'HOST_LOGMASS', 'HOST_LOGMASS_ERR', 'SNRMAX1',\n",
       "       'SNRMAX2', 'SNRMAX3', 'PKMJD', 'PKMJDERR', 'x1', 'x1ERR', 'c',\n",
       "       'cERR', 'mB', 'mBERR', 'x0', 'x0ERR', 'COV_x1_c', 'COV_x1_x0',\n",
       "       'COV_c_x0', 'NDOF', 'FITCHI2', 'FITPROB', 'SIM_TYPE_INDEX',\n",
       "       'SIM_NONIA_INDEX', 'SIM_LIBID', 'SIM_NGEN_LIBID', 'SIM_ZCMB',\n",
       "       'SIM_VPEC', 'SIM_DLMAG', 'SIM_PKMJD', 'SIM_x1', 'SIM_c',\n",
       "       'SIM_alpha', 'SIM_beta', 'SIM_x0', 'SIM_mB', 'SIM_AV', 'm0obs_r',\n",
       "       'm0obs_i', 'm0obs_g', 'm0obs_z', 'em0obs_i', 'em0obs_r',\n",
       "       'em0obs_g', 'em0obs_z', 'z', 'Unnamed: 60'], dtype=object)"
      ]
     },
     "execution_count": 4,
     "metadata": {},
     "output_type": "execute_result"
    }
   ],
   "source": [
    "sim_info.columns.values"
   ]
  },
  {
   "cell_type": "markdown",
   "metadata": {},
   "source": [
    "We are interested in salt parameters:\n",
    "- $\\alpha$ and $\\beta$\n",
    "- stretch $x_0$, peak $x_1$ and color $c$\n",
    "\n",
    "these parameters are important for light-curves simulations"
   ]
  },
  {
   "cell_type": "code",
   "execution_count": 5,
   "metadata": {},
   "outputs": [
    {
     "name": "stdout",
     "output_type": "stream",
     "text": [
      "α:\n",
      "SIM_alpha\n",
      " 0.144    479183\n",
      "-9.000    402786\n",
      "Name: count, dtype: int64\n",
      "\n",
      "\n",
      "β:\n",
      "SIM_beta\n",
      " 3.1    479183\n",
      "-9.0    402786\n",
      "Name: count, dtype: int64\n"
     ]
    }
   ],
   "source": [
    "print('\\u03B1:', sim_info['SIM_alpha'].value_counts(), sep='\\n')\n",
    "\n",
    "print('\\n')\n",
    "\n",
    "print('\\u03B2:', sim_info['SIM_beta'].value_counts(), sep='\\n')"
   ]
  },
  {
   "cell_type": "markdown",
   "metadata": {},
   "source": [
    "### - - -\n",
    "ok\n",
    "\n",
    "she only used two configurations:\n",
    "\n",
    "- $\\alpha = 0.144$ and $\\beta = 3.1$\n",
    "- $\\alpha = -9.0$ and $\\beta = -9.0$\n",
    "### - - -"
   ]
  },
  {
   "cell_type": "markdown",
   "metadata": {},
   "source": [
    "## $x_0$"
   ]
  },
  {
   "cell_type": "code",
   "execution_count": 6,
   "metadata": {},
   "outputs": [
    {
     "data": {
      "image/png": "[encoded data removed]",
      "text/plain": [
       "<Figure size 640x480 with 2 Axes>"
      ]
     },
     "metadata": {},
     "output_type": "display_data"
    }
   ],
   "source": [
    "fig, (ax1, ax2) = plt.subplots(ncols=2, sharey=True)\n",
    "bins = 200\n",
    "\n",
    "sim_info['SIM_x0'].hist(bins=bins, ax=ax2)\n",
    "ax2.set_xlim(-0.1, 0.1)\n",
    "\n",
    "sim_info['SIM_x0'].hist(bins=bins, ax=ax1)\n",
    "ax1.set_xlim(-9.2, -8.8)\n",
    "ax1.set_title('*Non Ia', fontsize=10, loc='left')\n",
    "\n",
    "fig.suptitle(r'Stretch $x_0$')\n",
    "\n",
    "plt.show()"
   ]
  },
  {
   "cell_type": "code",
   "execution_count": 7,
   "metadata": {},
   "outputs": [
    {
     "name": "stdout",
     "output_type": "stream",
     "text": [
      "\n",
      "    x_0\n",
      "    ====\n",
      "\n",
      "    mean: 2.260240041977074e-05\n",
      "    σ : 9.183332256887107e-05\n",
      "\n",
      "    x_0 ∈ [9.05941e-07, 0.00943271]\n",
      "    \n"
     ]
    }
   ],
   "source": [
    "x_0s = sim_info[sim_info['SIM_x0']!=-9]['SIM_x0']\n",
    "\n",
    "print(\n",
    "    f\"\"\"\n",
    "    x_0\n",
    "    ====\n",
    "\n",
    "    mean: {x_0s.mean()}\n",
    "    \\u03C3 : {x_0s.std()}\n",
    "\n",
    "    x_0 \\u2208 [{min(x_0s)}, {max(x_0s)}]\n",
    "    \"\"\"\n",
    ")"
   ]
  },
  {
   "cell_type": "markdown",
   "metadata": {},
   "source": [
    "## $x_1$"
   ]
  },
  {
   "cell_type": "code",
   "execution_count": 8,
   "metadata": {},
   "outputs": [
    {
     "data": {
      "image/png": "[encoded data removed]",
      "text/plain": [
       "<Figure size 640x480 with 2 Axes>"
      ]
     },
     "metadata": {},
     "output_type": "display_data"
    }
   ],
   "source": [
    "fig, (ax1, ax2) = plt.subplots(ncols=2, sharey=True)\n",
    "bins = 200\n",
    "\n",
    "sim_info['SIM_x1'].hist(bins=10, ax=ax2)\n",
    "ax2.set_xlim(-4, 3.5)\n",
    "\n",
    "sim_info['SIM_x1'].hist(bins=bins, ax=ax1)\n",
    "ax1.set_xlim(-9.2, -8.8)\n",
    "\n",
    "ax1.set_title('*Non Ia', fontsize=10, loc='left')\n",
    "\n",
    "fig.suptitle(r'Amplitude $x_1$')\n",
    "\n",
    "plt.show()"
   ]
  },
  {
   "cell_type": "code",
   "execution_count": 9,
   "metadata": {},
   "outputs": [
    {
     "name": "stdout",
     "output_type": "stream",
     "text": [
      "\n",
      "    x_1\n",
      "    ====\n",
      "\n",
      "    mean: 0.028960197170867754\n",
      "    σ : 0.9380992739270394\n",
      "\n",
      "    x_1 ∈ [-4.92005, 2.031]\n",
      "    \n"
     ]
    }
   ],
   "source": [
    "x_1s = sim_info[sim_info['SIM_x1']!=-9]['SIM_x1']\n",
    "\n",
    "print(\n",
    "    f\"\"\"\n",
    "    x_1\n",
    "    ====\n",
    "\n",
    "    mean: {x_1s.mean()}\n",
    "    \\u03C3 : {x_1s.std()}\n",
    "\n",
    "    x_1 \\u2208 [{min(x_1s)}, {max(x_1s)}]\n",
    "    \"\"\"\n",
    ")"
   ]
  },
  {
   "cell_type": "code",
   "execution_count": 10,
   "metadata": {},
   "outputs": [
    {
     "data": {
      "image/png": "[encoded data removed]",
      "text/plain": [
       "<Figure size 640x480 with 2 Axes>"
      ]
     },
     "metadata": {},
     "output_type": "display_data"
    }
   ],
   "source": [
    "fig, (ax1, ax2) = plt.subplots(ncols=2, sharey=True)\n",
    "\n",
    "bins = 150\n",
    "sim_info['SIM_c'].hist(bins=bins, ax=ax2)\n",
    "ax2.set_xlim(-0.3, 0.3)\n",
    "\n",
    "sim_info['SIM_c'].hist(bins=bins, ax=ax1)\n",
    "ax1.set_xlim(-9.2, -8.8)\n",
    "ax1.set_title('*Non Ia', fontsize=10, loc='left')\n",
    "\n",
    "fig.suptitle(r'Color $c$')\n",
    "\n",
    "plt.show()"
   ]
  },
  {
   "cell_type": "code",
   "execution_count": 11,
   "metadata": {},
   "outputs": [
    {
     "name": "stdout",
     "output_type": "stream",
     "text": [
      "\n",
      "    c\n",
      "    ====\n",
      "\n",
      "    mean: -0.017793261203782898\n",
      "    σ : 0.071126724637763\n",
      "\n",
      "    c ∈ [-0.259818, 0.4163]\n",
      "    \n"
     ]
    }
   ],
   "source": [
    "cs = sim_info[sim_info['SIM_c']!=-9]['SIM_c']\n",
    "\n",
    "print(\n",
    "    f\"\"\"\n",
    "    c\n",
    "    ====\n",
    "\n",
    "    mean: {cs.mean()}\n",
    "    \\u03C3 : {cs.std()}\n",
    "\n",
    "    c \\u2208 [{min(cs)}, {max(cs)}]\n",
    "    \"\"\"\n",
    ")"
   ]
  },
  {
   "cell_type": "code",
   "execution_count": 12,
   "metadata": {},
   "outputs": [
    {
     "data": {
      "image/png": "[encoded data removed]",
      "text/plain": [
       "<Figure size 640x480 with 2 Axes>"
      ]
     },
     "metadata": {},
     "output_type": "display_data"
    }
   ],
   "source": [
    "fig, (ax1, ax2)= plt.subplots(nrows=2, sharex=True)\n",
    "\n",
    "bins = 25\n",
    "sim_info['SIM_PKMJD'].hist(bins=bins, ax=ax2)\n",
    "sim_info['PKMJD'].hist(bins=bins, ax=ax1)\n",
    "\n",
    "fig.suptitle(r'Peak MJD')\n",
    "\n",
    "plt.show()"
   ]
  },
  {
   "cell_type": "code",
   "execution_count": 13,
   "metadata": {},
   "outputs": [
    {
     "data": {
      "text/plain": [
       "SIM_TYPE_INDEX\n",
       "1     479183\n",
       "32    140197\n",
       "20     94994\n",
       "33     70811\n",
       "23     66818\n",
       "22     26717\n",
       "21      3249\n",
       "Name: count, dtype: int64"
      ]
     },
     "execution_count": 13,
     "metadata": {},
     "output_type": "execute_result"
    }
   ],
   "source": [
    "sim_info['SIM_TYPE_INDEX'].value_counts()"
   ]
  },
  {
   "cell_type": "code",
   "execution_count": 14,
   "metadata": {},
   "outputs": [
    {
     "name": "stdout",
     "output_type": "stream",
     "text": [
      "\n",
      "    Non Ia  : 402786\n",
      "    \n",
      "    x_0 = -9: 402786\n",
      "    x_1 = -9: 402786\n",
      "    c   = -9: 402786\n",
      "    \n"
     ]
    }
   ],
   "source": [
    "print(\n",
    "    f\"\"\"\n",
    "    Non Ia  : {sum(sim_info['SIM_TYPE_INDEX'] != 1)}\n",
    "    \n",
    "    x_0 = -9: {sum(sim_info['SIM_x0'] == -9)}\n",
    "    x_1 = -9: {sum(sim_info['SIM_x1'] == -9)}\n",
    "    c   = -9: {sum(sim_info['SIM_c'] == -9)}\n",
    "    \"\"\"\n",
    ")\n"
   ]
  },
  {
   "cell_type": "code",
   "execution_count": 15,
   "metadata": {},
   "outputs": [
    {
     "data": {
      "text/plain": [
       "<Axes: >"
      ]
     },
     "execution_count": 15,
     "metadata": {},
     "output_type": "execute_result"
    },
    {
     "data": {
      "image/png": "[encoded data removed]",
      "text/plain": [
       "<Figure size 640x480 with 1 Axes>"
      ]
     },
     "metadata": {},
     "output_type": "display_data"
    }
   ],
   "source": [
    "sim_info['z'].hist()"
   ]
  },
  {
   "cell_type": "code",
   "execution_count": 16,
   "metadata": {},
   "outputs": [
    {
     "data": {
      "text/plain": [
       "0.20729233750921763"
      ]
     },
     "execution_count": 16,
     "metadata": {},
     "output_type": "execute_result"
    }
   ],
   "source": [
    "sim_info['z'].std()"
   ]
  },
  {
   "cell_type": "code",
   "execution_count": null,
   "metadata": {},
   "outputs": [],
   "source": []
  }
 ],
 "metadata": {
  "kernelspec": {
   "display_name": "Python 3.9.13 ('base')",
   "language": "python",
   "name": "python3"
  },
  "language_info": {
   "codemirror_mode": {
    "name": "ipython",
    "version": 3
   },
   "file_extension": ".py",
   "mimetype": "text/x-python",
   "name": "python",
   "nbconvert_exporter": "python",
   "pygments_lexer": "ipython3",
   "version": "3.9.19"
  },
  "orig_nbformat": 4,
  "vscode": {
   "interpreter": {
    "hash": "6c0453e26b24401ab92fc4c9258d0e6c3ac378e13e0e842060a1489ed820d196"
   }
  }
 },
 "nbformat": 4,
 "nbformat_minor": 2
}
